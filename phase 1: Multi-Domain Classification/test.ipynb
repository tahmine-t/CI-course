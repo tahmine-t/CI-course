{
 "cells": [
  {
   "cell_type": "code",
   "execution_count": 1,
   "id": "7a697733",
   "metadata": {},
   "outputs": [],
   "source": [
    "import numpy as np\n",
    "import pandas as pd\n",
    "import matplotlib.pyplot as plt\n",
    "import seaborn as sns\n",
    "import random\n",
    "from sklearn.ensemble import RandomForestClassifier\n",
    "from sklearn.metrics import f1_score"
   ]
  },
  {
   "cell_type": "code",
   "execution_count": 2,
   "id": "4676106b",
   "metadata": {},
   "outputs": [],
   "source": [
    "train_data = np.load('train_data.npz')\n",
    "train_features = train_data['features']\n",
    "train_domains = train_data['domains']\n",
    "train_digits = train_data['digits']\n",
    "\n",
    "test_data = np.load('test_data.npz')\n",
    "test_features = test_data['features']\n",
    "test_domains = test_data['domains']\n",
    "test_digits = test_data['digits']"
   ]
  },
  {
   "cell_type": "code",
   "execution_count": 4,
   "id": "7689e7ba",
   "metadata": {},
   "outputs": [
    {
     "data": {
      "text/plain": [
       "array([False, False, False, ..., False, False, False])"
      ]
     },
     "execution_count": 4,
     "metadata": {},
     "output_type": "execute_result"
    }
   ],
   "source": [
    "mask = train_domains == 0\n",
    "mask"
   ]
  },
  {
   "cell_type": "code",
   "execution_count": 35,
   "id": "fd94d387",
   "metadata": {},
   "outputs": [],
   "source": [
    "features = train_features[mask]\n",
    "digits = train_digits[mask]"
   ]
  },
  {
   "cell_type": "code",
   "execution_count": 7,
   "id": "0457cbc2",
   "metadata": {},
   "outputs": [
    {
     "data": {
      "text/plain": [
       "5000"
      ]
     },
     "execution_count": 7,
     "metadata": {},
     "output_type": "execute_result"
    }
   ],
   "source": [
    "len(features)"
   ]
  },
  {
   "cell_type": "code",
   "execution_count": 32,
   "id": "17c3aa16",
   "metadata": {},
   "outputs": [],
   "source": [
    "mix_features = train_features[train_domains == 1]\n",
    "mix_digits = train_digits[train_domains == 1]"
   ]
  },
  {
   "cell_type": "code",
   "execution_count": 33,
   "id": "ba451871",
   "metadata": {},
   "outputs": [],
   "source": [
    "mix_sample = np.random.choice(mix_features.shape[0], 10)"
   ]
  },
  {
   "cell_type": "code",
   "execution_count": 36,
   "id": "1d4f452b",
   "metadata": {},
   "outputs": [
    {
     "data": {
      "text/plain": [
       "(5000, 1024)"
      ]
     },
     "execution_count": 36,
     "metadata": {},
     "output_type": "execute_result"
    }
   ],
   "source": [
    "features.shape"
   ]
  },
  {
   "cell_type": "code",
   "execution_count": 37,
   "id": "0b775752",
   "metadata": {},
   "outputs": [],
   "source": [
    "features = np.concatenate([features, mix_features[mix_sample]])"
   ]
  },
  {
   "cell_type": "code",
   "execution_count": 38,
   "id": "34771345",
   "metadata": {},
   "outputs": [
    {
     "data": {
      "text/plain": [
       "5010"
      ]
     },
     "execution_count": 38,
     "metadata": {},
     "output_type": "execute_result"
    }
   ],
   "source": [
    "len(features)"
   ]
  },
  {
   "cell_type": "code",
   "execution_count": null,
   "id": "ea9292f9",
   "metadata": {},
   "outputs": [],
   "source": []
  }
 ],
 "metadata": {
  "kernelspec": {
   "display_name": "Python 3 (ipykernel)",
   "language": "python",
   "name": "python3"
  },
  "language_info": {
   "codemirror_mode": {
    "name": "ipython",
    "version": 3
   },
   "file_extension": ".py",
   "mimetype": "text/x-python",
   "name": "python",
   "nbconvert_exporter": "python",
   "pygments_lexer": "ipython3",
   "version": "3.9.12"
  }
 },
 "nbformat": 4,
 "nbformat_minor": 5
}
