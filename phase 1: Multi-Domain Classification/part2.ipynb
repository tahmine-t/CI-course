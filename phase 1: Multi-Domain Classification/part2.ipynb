{
 "cells": [
  {
   "cell_type": "code",
   "execution_count": 44,
   "id": "783f29b9",
   "metadata": {},
   "outputs": [],
   "source": [
    "import numpy as np\n",
    "import matplotlib.pyplot as plt\n",
    "import seaborn as sns\n",
    "import pickle\n",
    "import time\n",
    "from sklearn.ensemble import RandomForestClassifier\n",
    "from sklearn.metrics import confusion_matrix\n",
    "from sklearn.metrics import f1_score"
   ]
  },
  {
   "cell_type": "code",
   "execution_count": 50,
   "id": "44dbe1a1",
   "metadata": {},
   "outputs": [],
   "source": [
    "# loading data\n",
    "train_data = np.load('train_data.npz')\n",
    "\n",
    "# train data\n",
    "train_features = train_data['features']\n",
    "train_domains = train_data['domains']\n",
    "train_digits = train_data['digits']\n",
    "\n",
    "test_data = np.load('test_data.npz')\n",
    "\n",
    "# test data\n",
    "test_features = test_data['features']\n",
    "test_domains = test_data['domains']\n",
    "test_digits = test_data['digits']\n",
    "\n",
    "domain_tags = np.unique(train_domains)\n",
    "\n",
    "# specific label train data\n",
    "tag_train_features_dic = {}\n",
    "tag_train_domains_dic = {}\n",
    "tag_train_digits_dic = {}\n",
    "\n",
    "for tag in domain_tags:\n",
    "    tag_mask = train_domains == tag\n",
    "    \n",
    "    tag_train_features = train_features[tag_mask]\n",
    "    tag_train_domains = train_domains[tag_mask]\n",
    "    tag_train_digits = train_digits[tag_mask]\n",
    "    \n",
    "    tag_train_features_dic[tag] = tag_train_features\n",
    "    tag_train_domains_dic[tag] = tag_train_domains\n",
    "    tag_train_digits_dic[tag] = tag_train_digits\n",
    "\n",
    "# specific label test data\n",
    "tag_test_features_dic = {}\n",
    "tag_test_domains_dic = {}\n",
    "tag_test_digits_dic = {}\n",
    "\n",
    "    \n",
    "for tag in domain_tags:\n",
    "    tag_mask = test_domains == tag\n",
    "        \n",
    "    tag_test_features = test_features[tag_mask]\n",
    "    tag_test_domains = test_domains[tag_mask]\n",
    "    tag_test_digits = test_digits[tag_mask]\n",
    "    \n",
    "    tag_test_features_dic[tag] = tag_test_features\n",
    "    tag_test_domains_dic[tag] = tag_test_domains\n",
    "    tag_test_digits_dic[tag] = tag_test_digits\n",
    "    \n",
    "# other used parameters\n",
    "models_destination = 'trained_models/'\n",
    "train_elapsed_time_threshold = 5\n",
    "converge_accuracy_difference = 0.002"
   ]
  },
  {
   "cell_type": "code",
   "execution_count": 48,
   "id": "efe4454c",
   "metadata": {},
   "outputs": [],
   "source": [
    "# model save function\n",
    "def save_clf (model, name, n_estimators, min_samples_split):\n",
    "    pickle.dump(model, open(f'{models_destination}{name}_{n_estimators}_estimators_{min_samples_split}_min_samples_split.pickle', 'wb'))"
   ]
  },
  {
   "cell_type": "markdown",
   "id": "67fd20bb",
   "metadata": {},
   "source": [
    "# TRAINING DOMAIN CLASSIFIER ON THE ENTIRE TEST DATA"
   ]
  },
  {
   "cell_type": "code",
   "execution_count": 52,
   "id": "2df406c7",
   "metadata": {},
   "outputs": [
    {
     "name": "stdout",
     "output_type": "stream",
     "text": [
      "clf with n_estimators = 1, trained in (0) minutes, accuracy = 0.7063298861057562\n",
      "clf with n_estimators = 51, trained in (0) minutes, accuracy = 0.9298673248023587\n",
      "clf with n_estimators = 101, trained in (1) minutes, accuracy = 0.9383553510442156\n",
      "clf with n_estimators = 151, trained in (2) minutes, accuracy = 0.9413688998387325\n",
      "clf with n_estimators = 201, trained in (3) minutes, accuracy = 0.9425125898927932\n",
      "---done training---\n"
     ]
    }
   ],
   "source": [
    "# looking for the best range of n_estimators hyperparameter in the range of (1, 1000)\n",
    "prev_score = 0\n",
    "\n",
    "for i in range(1, 1000, 50):\n",
    "    # clf model\n",
    "    domain_clf = RandomForestClassifier(n_estimators=i, random_state=123)\n",
    "    \n",
    "    start_time = time.time()\n",
    "    domain_clf.fit(train_features, train_domains)\n",
    "    end_time = time.time()\n",
    "    elapsed_time = int((end_time - start_time) / 60)\n",
    "    \n",
    "    # clf test\n",
    "    test_domains_predict = domain_clf.predict(test_features)\n",
    "    score = f1_score(test_domains, test_domains_predict, average='weighted')\n",
    "    \n",
    "    print(f'clf with n_estimators = {i}, trained in ({elapsed_time}) minutes, accuracy = {score}')\n",
    "    \n",
    "    # saving model\n",
    "    save_clf(domain_clf, 'domain_clf', n_estimators=i, min_samples_split=2)\n",
    "    \n",
    "    # checking whether time to train the model exeeds the limit\n",
    "    # or the training has converged increasing this hyperparameter\n",
    "    score_dif = score - prev_score\n",
    "    \n",
    "    if((elapsed_time >= train_elapsed_time_threshold) or (score_dif < converge_accuracy_difference)):\n",
    "        break\n",
    "        \n",
    "    prev_score = score\n",
    "print('---done training---')"
   ]
  },
  {
   "cell_type": "code",
   "execution_count": 53,
   "id": "d2361dc8",
   "metadata": {
    "scrolled": true
   },
   "outputs": [
    {
     "name": "stdout",
     "output_type": "stream",
     "text": [
      "clf with min_samples_split = 2, trained in (0) minutes, accuracy = 0.9299726749943206\n",
      "clf with min_samples_split = 102, trained in (0) minutes, accuracy = 0.9250707528704757\n",
      "clf with min_samples_split = 202, trained in (0) minutes, accuracy = 0.9027607706545245\n",
      "clf with min_samples_split = 302, trained in (0) minutes, accuracy = 0.8757880217445824\n",
      "clf with min_samples_split = 402, trained in (0) minutes, accuracy = 0.8522558769884252\n",
      "clf with min_samples_split = 502, trained in (0) minutes, accuracy = 0.8422597625575949\n",
      "clf with min_samples_split = 602, trained in (0) minutes, accuracy = 0.8237871942823957\n",
      "clf with min_samples_split = 702, trained in (0) minutes, accuracy = 0.8152256583605124\n",
      "clf with min_samples_split = 802, trained in (0) minutes, accuracy = 0.8024870979253707\n",
      "clf with min_samples_split = 902, trained in (0) minutes, accuracy = 0.7913901130380862\n",
      "---done training---\n"
     ]
    }
   ],
   "source": [
    "# looking for the best range of min_samples_split hyperparameter in the range of (1, 1000)\n",
    "prev_score = 0\n",
    "chosen_n_estimators = 50\n",
    "\n",
    "for i in range(2, 1002, 100):\n",
    "    # clf model\n",
    "    domain_clf = RandomForestClassifier(n_estimators=chosen_n_estimators, min_samples_split=i, random_state=123)\n",
    "    \n",
    "    start_time = time.time()\n",
    "    domain_clf.fit(train_features, train_domains)\n",
    "    end_time = time.time()\n",
    "    elapsed_time = int((end_time - start_time) / 60)\n",
    "    \n",
    "    # clf test\n",
    "    domains_predict = domain_clf.predict(test_features)\n",
    "    score = f1_score(test_domains, domains_predict, average='weighted')\n",
    "    \n",
    "    print(f'clf with min_samples_split = {i}, trained in ({elapsed_time}) minutes, accuracy = {score}')\n",
    "    \n",
    "    # saving model\n",
    "    save_clf(domain_clf, 'domain_clf', n_estimators=chosen_n_estimators, min_samples_split=i)\n",
    "    \n",
    "    # checking whether time to train the model exeeds the limit\n",
    "    # or the training has converged increasing this hyperparameter\n",
    "    score_dif = score - prev_score\n",
    "    \n",
    "    if(elapsed_time >= train_elapsed_time_threshold):\n",
    "        break\n",
    "        \n",
    "    prev_score = score\n",
    "print('---done training---')"
   ]
  },
  {
   "cell_type": "code",
   "execution_count": 54,
   "id": "6c8d891e",
   "metadata": {},
   "outputs": [
    {
     "name": "stdout",
     "output_type": "stream",
     "text": [
      "clf with min_samples_split = 2, trained in (0) minutes, accuracy = 0.9299726749943206\n",
      "clf with min_samples_split = 12, trained in (0) minutes, accuracy = 0.9315392804245437\n",
      "clf with min_samples_split = 22, trained in (0) minutes, accuracy = 0.9341933718728388\n",
      "clf with min_samples_split = 32, trained in (0) minutes, accuracy = 0.9352421625419021\n",
      "clf with min_samples_split = 42, trained in (0) minutes, accuracy = 0.9375622934113013\n",
      "clf with min_samples_split = 52, trained in (0) minutes, accuracy = 0.9352928361446022\n",
      "clf with min_samples_split = 62, trained in (0) minutes, accuracy = 0.9317120457465425\n",
      "clf with min_samples_split = 72, trained in (0) minutes, accuracy = 0.9331270049733249\n",
      "clf with min_samples_split = 82, trained in (0) minutes, accuracy = 0.931488283065444\n",
      "clf with min_samples_split = 92, trained in (0) minutes, accuracy = 0.9294799809542995\n",
      "clf with min_samples_split = 102, trained in (0) minutes, accuracy = 0.9250707528704757\n",
      "---done training---\n"
     ]
    }
   ],
   "source": [
    "# looking for the best range of min_samples_split hyperparameter in the range of (1, 100)\n",
    "prev_score = 0\n",
    "chosen_n_estimators = 50\n",
    "\n",
    "for i in range(2, 103, 10):\n",
    "    # clf model\n",
    "    domain_clf = RandomForestClassifier(n_estimators=chosen_n_estimators, min_samples_split=i, random_state=123)\n",
    "    \n",
    "    start_time = time.time()\n",
    "    domain_clf.fit(train_features, train_domains)\n",
    "    end_time = time.time()\n",
    "    elapsed_time = int((end_time - start_time) / 60)\n",
    "    \n",
    "    # clf test\n",
    "    domains_predict = domain_clf.predict(test_features)\n",
    "    score = f1_score(test_domains, domains_predict, average='weighted')\n",
    "    \n",
    "    print(f'clf with min_samples_split = {i}, trained in ({elapsed_time}) minutes, accuracy = {score}')\n",
    "    \n",
    "    # saving model\n",
    "    save_clf(domain_clf, 'domain_clf', n_estimators=chosen_n_estimators, min_samples_split=i)\n",
    "    \n",
    "    # checking whether time to train the model exeeds the limit\n",
    "    # or the training has converged increasing this hyperparameter\n",
    "    score_dif = score - prev_score\n",
    "    \n",
    "    if(elapsed_time >= train_elapsed_time_threshold):\n",
    "        break\n",
    "        \n",
    "    prev_score = score\n",
    "print('---done training---')"
   ]
  },
  {
   "cell_type": "code",
   "execution_count": 55,
   "id": "2d1b21f8",
   "metadata": {},
   "outputs": [
    {
     "name": "stdout",
     "output_type": "stream",
     "text": [
      "clf with n_estimators = 200, min_samples_split = 30, trained in (3) min(s)\n"
     ]
    }
   ],
   "source": [
    "# training a model with most desirable hyperparameters found\n",
    "n_estimators = 200\n",
    "min_samples_split = 30\n",
    "   \n",
    "domain_clf = RandomForestClassifier(n_estimators=n_estimators, min_samples_split=min_samples_split, random_state=124)\n",
    "\n",
    "start_time = time.time()\n",
    "domain_clf.fit(train_features, train_domains)\n",
    "end_time = time.time()\n",
    "elapsed_time = int((end_time - start_time) / 60)\n",
    "\n",
    "save_clf(domain_clf, 'domain_clf', n_estimators=n_estimators, min_samples_split=min_samples_split)\n",
    "\n",
    "print(f'clf with n_estimators = {n_estimators}, min_samples_split = {min_samples_split}, trained in ({elapsed_time}) min(s)')"
   ]
  },
  {
   "cell_type": "code",
   "execution_count": 56,
   "id": "736b2757",
   "metadata": {},
   "outputs": [
    {
     "name": "stdout",
     "output_type": "stream",
     "text": [
      "f1_score on train data = 0.9133714591088505\n",
      "f1_score on test data = 0.9433063188624894\n"
     ]
    }
   ],
   "source": [
    "# accuracy on train data\n",
    "train_domains_predict = domain_clf.predict(train_features)\n",
    "score = f1_score(train_domains, train_domains_predict, average='weighted')\n",
    "print(f'f1_score on train data = {score}')\n",
    "\n",
    "# accuracy on test data\n",
    "test_domains_predict = domain_clf.predict(test_features)\n",
    "score = f1_score(test_domains, test_domains_predict, average='weighted')\n",
    "print(f'f1_score on test data = {score}')"
   ]
  },
  {
   "cell_type": "code",
   "execution_count": 57,
   "id": "e7d7c614",
   "metadata": {},
   "outputs": [
    {
     "data": {
      "image/png": "[encoded data removed]",
      "text/plain": [
       "<Figure size 864x576 with 2 Axes>"
      ]
     },
     "metadata": {
      "needs_background": "light"
     },
     "output_type": "display_data"
    }
   ],
   "source": [
    "# confusion matrix of the predicted train data\n",
    "cm = confusion_matrix(train_domains, train_domains_predict)\n",
    "\n",
    "plt.figure(figsize=(12, 8))\n",
    "sns.heatmap(cm, annot=True, cmap='Blues', fmt='d')\n",
    "plt.xlabel('Predicted')\n",
    "plt.ylabel('True')\n",
    "plt.show()"
   ]
  },
  {
   "cell_type": "code",
   "execution_count": 59,
   "id": "bb52e4b3",
   "metadata": {},
   "outputs": [
    {
     "data": {
      "image/png": "[encoded data removed]",
      "text/plain": [
       "<Figure size 864x576 with 2 Axes>"
      ]
     },
     "metadata": {
      "needs_background": "light"
     },
     "output_type": "display_data"
    }
   ],
   "source": [
    "# confusion matrix of the predicted test data\n",
    "cm = confusion_matrix(test_domains, test_domains_predict)\n",
    "\n",
    "plt.figure(figsize=(12, 8))\n",
    "sns.heatmap(cm, annot=True, cmap='Blues', fmt='d')\n",
    "plt.xlabel('Predicted')\n",
    "plt.ylabel('True')\n",
    "plt.show()"
   ]
  },
  {
   "cell_type": "markdown",
   "id": "935bbd8d",
   "metadata": {},
   "source": [
    "# TRAINING DIGIT (CONTENT) CLASSIFIER ON EACH DOMAIN"
   ]
  },
  {
   "cell_type": "code",
   "execution_count": 77,
   "id": "4d9327a5",
   "metadata": {
    "scrolled": true
   },
   "outputs": [
    {
     "name": "stdout",
     "output_type": "stream",
     "text": [
      "clf with n_estimators = 1, trained in (0) minutes, accuracy = 0.5600020039272009\n",
      "clf with n_estimators = 51, trained in (0) minutes, accuracy = 0.8539196550576806\n",
      "clf with n_estimators = 101, trained in (0) minutes, accuracy = 0.8717486184751\n",
      "clf with n_estimators = 151, trained in (1) minutes, accuracy = 0.8789017238006424\n",
      "clf with n_estimators = 201, trained in (1) minutes, accuracy = 0.8817810930399231\n",
      "clf with n_estimators = 251, trained in (1) minutes, accuracy = 0.8843053856667327\n",
      "clf with n_estimators = 301, trained in (2) minutes, accuracy = 0.8842885483265633\n",
      "clf with n_estimators = 351, trained in (2) minutes, accuracy = 0.8854258594471891\n"
     ]
    },
    {
     "ename": "KeyboardInterrupt",
     "evalue": "",
     "output_type": "error",
     "traceback": [
      "\u001b[0;31m---------------------------------------------------------------------------\u001b[0m",
      "\u001b[0;31mKeyboardInterrupt\u001b[0m                         Traceback (most recent call last)",
      "Input \u001b[0;32mIn [77]\u001b[0m, in \u001b[0;36m<cell line: 4>\u001b[0;34m()\u001b[0m\n\u001b[1;32m     11\u001b[0m     tag_train_digits \u001b[38;5;241m=\u001b[39m tag_train_digits_dic[tag]\n\u001b[1;32m     13\u001b[0m     domain_digit_clf \u001b[38;5;241m=\u001b[39m RandomForestClassifier(n_estimators\u001b[38;5;241m=\u001b[39mi, random_state\u001b[38;5;241m=\u001b[39m\u001b[38;5;241m123\u001b[39m)\n\u001b[0;32m---> 14\u001b[0m     \u001b[43mdomain_digit_clf\u001b[49m\u001b[38;5;241;43m.\u001b[39;49m\u001b[43mfit\u001b[49m\u001b[43m(\u001b[49m\u001b[43mtag_train_features\u001b[49m\u001b[43m,\u001b[49m\u001b[43m \u001b[49m\u001b[43mtag_train_digits\u001b[49m\u001b[43m)\u001b[49m\n\u001b[1;32m     16\u001b[0m     domain_digit_clfs[tag] \u001b[38;5;241m=\u001b[39m domain_digit_clf\n\u001b[1;32m     18\u001b[0m end_time \u001b[38;5;241m=\u001b[39m time\u001b[38;5;241m.\u001b[39mtime()\n",
      "File \u001b[0;32m~/opt/anaconda3/lib/python3.9/site-packages/sklearn/ensemble/_forest.py:450\u001b[0m, in \u001b[0;36mBaseForest.fit\u001b[0;34m(self, X, y, sample_weight)\u001b[0m\n\u001b[1;32m    439\u001b[0m trees \u001b[38;5;241m=\u001b[39m [\n\u001b[1;32m    440\u001b[0m     \u001b[38;5;28mself\u001b[39m\u001b[38;5;241m.\u001b[39m_make_estimator(append\u001b[38;5;241m=\u001b[39m\u001b[38;5;28;01mFalse\u001b[39;00m, random_state\u001b[38;5;241m=\u001b[39mrandom_state)\n\u001b[1;32m    441\u001b[0m     \u001b[38;5;28;01mfor\u001b[39;00m i \u001b[38;5;129;01min\u001b[39;00m \u001b[38;5;28mrange\u001b[39m(n_more_estimators)\n\u001b[1;32m    442\u001b[0m ]\n\u001b[1;32m    444\u001b[0m \u001b[38;5;66;03m# Parallel loop: we prefer the threading backend as the Cython code\u001b[39;00m\n\u001b[1;32m    445\u001b[0m \u001b[38;5;66;03m# for fitting the trees is internally releasing the Python GIL\u001b[39;00m\n\u001b[1;32m    446\u001b[0m \u001b[38;5;66;03m# making threading more efficient than multiprocessing in\u001b[39;00m\n\u001b[1;32m    447\u001b[0m \u001b[38;5;66;03m# that case. However, for joblib 0.12+ we respect any\u001b[39;00m\n\u001b[1;32m    448\u001b[0m \u001b[38;5;66;03m# parallel_backend contexts set at a higher level,\u001b[39;00m\n\u001b[1;32m    449\u001b[0m \u001b[38;5;66;03m# since correctness does not rely on using threads.\u001b[39;00m\n\u001b[0;32m--> 450\u001b[0m trees \u001b[38;5;241m=\u001b[39m \u001b[43mParallel\u001b[49m\u001b[43m(\u001b[49m\n\u001b[1;32m    451\u001b[0m \u001b[43m    \u001b[49m\u001b[43mn_jobs\u001b[49m\u001b[38;5;241;43m=\u001b[39;49m\u001b[38;5;28;43mself\u001b[39;49m\u001b[38;5;241;43m.\u001b[39;49m\u001b[43mn_jobs\u001b[49m\u001b[43m,\u001b[49m\n\u001b[1;32m    452\u001b[0m \u001b[43m    \u001b[49m\u001b[43mverbose\u001b[49m\u001b[38;5;241;43m=\u001b[39;49m\u001b[38;5;28;43mself\u001b[39;49m\u001b[38;5;241;43m.\u001b[39;49m\u001b[43mverbose\u001b[49m\u001b[43m,\u001b[49m\n\u001b[1;32m    453\u001b[0m \u001b[43m    \u001b[49m\u001b[38;5;241;43m*\u001b[39;49m\u001b[38;5;241;43m*\u001b[39;49m\u001b[43m_joblib_parallel_args\u001b[49m\u001b[43m(\u001b[49m\u001b[43mprefer\u001b[49m\u001b[38;5;241;43m=\u001b[39;49m\u001b[38;5;124;43m\"\u001b[39;49m\u001b[38;5;124;43mthreads\u001b[39;49m\u001b[38;5;124;43m\"\u001b[39;49m\u001b[43m)\u001b[49m\u001b[43m,\u001b[49m\n\u001b[1;32m    454\u001b[0m \u001b[43m\u001b[49m\u001b[43m)\u001b[49m\u001b[43m(\u001b[49m\n\u001b[1;32m    455\u001b[0m \u001b[43m    \u001b[49m\u001b[43mdelayed\u001b[49m\u001b[43m(\u001b[49m\u001b[43m_parallel_build_trees\u001b[49m\u001b[43m)\u001b[49m\u001b[43m(\u001b[49m\n\u001b[1;32m    456\u001b[0m \u001b[43m        \u001b[49m\u001b[43mt\u001b[49m\u001b[43m,\u001b[49m\n\u001b[1;32m    457\u001b[0m \u001b[43m        \u001b[49m\u001b[38;5;28;43mself\u001b[39;49m\u001b[43m,\u001b[49m\n\u001b[1;32m    458\u001b[0m \u001b[43m        \u001b[49m\u001b[43mX\u001b[49m\u001b[43m,\u001b[49m\n\u001b[1;32m    459\u001b[0m \u001b[43m        \u001b[49m\u001b[43my\u001b[49m\u001b[43m,\u001b[49m\n\u001b[1;32m    460\u001b[0m \u001b[43m        \u001b[49m\u001b[43msample_weight\u001b[49m\u001b[43m,\u001b[49m\n\u001b[1;32m    461\u001b[0m \u001b[43m        \u001b[49m\u001b[43mi\u001b[49m\u001b[43m,\u001b[49m\n\u001b[1;32m    462\u001b[0m \u001b[43m        \u001b[49m\u001b[38;5;28;43mlen\u001b[39;49m\u001b[43m(\u001b[49m\u001b[43mtrees\u001b[49m\u001b[43m)\u001b[49m\u001b[43m,\u001b[49m\n\u001b[1;32m    463\u001b[0m \u001b[43m        \u001b[49m\u001b[43mverbose\u001b[49m\u001b[38;5;241;43m=\u001b[39;49m\u001b[38;5;28;43mself\u001b[39;49m\u001b[38;5;241;43m.\u001b[39;49m\u001b[43mverbose\u001b[49m\u001b[43m,\u001b[49m\n\u001b[1;32m    464\u001b[0m \u001b[43m        \u001b[49m\u001b[43mclass_weight\u001b[49m\u001b[38;5;241;43m=\u001b[39;49m\u001b[38;5;28;43mself\u001b[39;49m\u001b[38;5;241;43m.\u001b[39;49m\u001b[43mclass_weight\u001b[49m\u001b[43m,\u001b[49m\n\u001b[1;32m    465\u001b[0m \u001b[43m        \u001b[49m\u001b[43mn_samples_bootstrap\u001b[49m\u001b[38;5;241;43m=\u001b[39;49m\u001b[43mn_samples_bootstrap\u001b[49m\u001b[43m,\u001b[49m\n\u001b[1;32m    466\u001b[0m \u001b[43m    \u001b[49m\u001b[43m)\u001b[49m\n\u001b[1;32m    467\u001b[0m \u001b[43m    \u001b[49m\u001b[38;5;28;43;01mfor\u001b[39;49;00m\u001b[43m \u001b[49m\u001b[43mi\u001b[49m\u001b[43m,\u001b[49m\u001b[43m \u001b[49m\u001b[43mt\u001b[49m\u001b[43m \u001b[49m\u001b[38;5;129;43;01min\u001b[39;49;00m\u001b[43m \u001b[49m\u001b[38;5;28;43menumerate\u001b[39;49m\u001b[43m(\u001b[49m\u001b[43mtrees\u001b[49m\u001b[43m)\u001b[49m\n\u001b[1;32m    468\u001b[0m \u001b[43m\u001b[49m\u001b[43m)\u001b[49m\n\u001b[1;32m    470\u001b[0m \u001b[38;5;66;03m# Collect newly grown trees\u001b[39;00m\n\u001b[1;32m    471\u001b[0m \u001b[38;5;28mself\u001b[39m\u001b[38;5;241m.\u001b[39mestimators_\u001b[38;5;241m.\u001b[39mextend(trees)\n",
      "File \u001b[0;32m~/opt/anaconda3/lib/python3.9/site-packages/joblib/parallel.py:1046\u001b[0m, in \u001b[0;36mParallel.__call__\u001b[0;34m(self, iterable)\u001b[0m\n\u001b[1;32m   1043\u001b[0m \u001b[38;5;28;01mif\u001b[39;00m \u001b[38;5;28mself\u001b[39m\u001b[38;5;241m.\u001b[39mdispatch_one_batch(iterator):\n\u001b[1;32m   1044\u001b[0m     \u001b[38;5;28mself\u001b[39m\u001b[38;5;241m.\u001b[39m_iterating \u001b[38;5;241m=\u001b[39m \u001b[38;5;28mself\u001b[39m\u001b[38;5;241m.\u001b[39m_original_iterator \u001b[38;5;129;01mis\u001b[39;00m \u001b[38;5;129;01mnot\u001b[39;00m \u001b[38;5;28;01mNone\u001b[39;00m\n\u001b[0;32m-> 1046\u001b[0m \u001b[38;5;28;01mwhile\u001b[39;00m \u001b[38;5;28;43mself\u001b[39;49m\u001b[38;5;241;43m.\u001b[39;49m\u001b[43mdispatch_one_batch\u001b[49m\u001b[43m(\u001b[49m\u001b[43miterator\u001b[49m\u001b[43m)\u001b[49m:\n\u001b[1;32m   1047\u001b[0m     \u001b[38;5;28;01mpass\u001b[39;00m\n\u001b[1;32m   1049\u001b[0m \u001b[38;5;28;01mif\u001b[39;00m pre_dispatch \u001b[38;5;241m==\u001b[39m \u001b[38;5;124m\"\u001b[39m\u001b[38;5;124mall\u001b[39m\u001b[38;5;124m\"\u001b[39m \u001b[38;5;129;01mor\u001b[39;00m n_jobs \u001b[38;5;241m==\u001b[39m \u001b[38;5;241m1\u001b[39m:\n\u001b[1;32m   1050\u001b[0m     \u001b[38;5;66;03m# The iterable was consumed all at once by the above for loop.\u001b[39;00m\n\u001b[1;32m   1051\u001b[0m     \u001b[38;5;66;03m# No need to wait for async callbacks to trigger to\u001b[39;00m\n\u001b[1;32m   1052\u001b[0m     \u001b[38;5;66;03m# consumption.\u001b[39;00m\n",
      "File \u001b[0;32m~/opt/anaconda3/lib/python3.9/site-packages/joblib/parallel.py:861\u001b[0m, in \u001b[0;36mParallel.dispatch_one_batch\u001b[0;34m(self, iterator)\u001b[0m\n\u001b[1;32m    859\u001b[0m     \u001b[38;5;28;01mreturn\u001b[39;00m \u001b[38;5;28;01mFalse\u001b[39;00m\n\u001b[1;32m    860\u001b[0m \u001b[38;5;28;01melse\u001b[39;00m:\n\u001b[0;32m--> 861\u001b[0m     \u001b[38;5;28;43mself\u001b[39;49m\u001b[38;5;241;43m.\u001b[39;49m\u001b[43m_dispatch\u001b[49m\u001b[43m(\u001b[49m\u001b[43mtasks\u001b[49m\u001b[43m)\u001b[49m\n\u001b[1;32m    862\u001b[0m     \u001b[38;5;28;01mreturn\u001b[39;00m \u001b[38;5;28;01mTrue\u001b[39;00m\n",
      "File \u001b[0;32m~/opt/anaconda3/lib/python3.9/site-packages/joblib/parallel.py:779\u001b[0m, in \u001b[0;36mParallel._dispatch\u001b[0;34m(self, batch)\u001b[0m\n\u001b[1;32m    777\u001b[0m \u001b[38;5;28;01mwith\u001b[39;00m \u001b[38;5;28mself\u001b[39m\u001b[38;5;241m.\u001b[39m_lock:\n\u001b[1;32m    778\u001b[0m     job_idx \u001b[38;5;241m=\u001b[39m \u001b[38;5;28mlen\u001b[39m(\u001b[38;5;28mself\u001b[39m\u001b[38;5;241m.\u001b[39m_jobs)\n\u001b[0;32m--> 779\u001b[0m     job \u001b[38;5;241m=\u001b[39m \u001b[38;5;28;43mself\u001b[39;49m\u001b[38;5;241;43m.\u001b[39;49m\u001b[43m_backend\u001b[49m\u001b[38;5;241;43m.\u001b[39;49m\u001b[43mapply_async\u001b[49m\u001b[43m(\u001b[49m\u001b[43mbatch\u001b[49m\u001b[43m,\u001b[49m\u001b[43m \u001b[49m\u001b[43mcallback\u001b[49m\u001b[38;5;241;43m=\u001b[39;49m\u001b[43mcb\u001b[49m\u001b[43m)\u001b[49m\n\u001b[1;32m    780\u001b[0m     \u001b[38;5;66;03m# A job can complete so quickly than its callback is\u001b[39;00m\n\u001b[1;32m    781\u001b[0m     \u001b[38;5;66;03m# called before we get here, causing self._jobs to\u001b[39;00m\n\u001b[1;32m    782\u001b[0m     \u001b[38;5;66;03m# grow. To ensure correct results ordering, .insert is\u001b[39;00m\n\u001b[1;32m    783\u001b[0m     \u001b[38;5;66;03m# used (rather than .append) in the following line\u001b[39;00m\n\u001b[1;32m    784\u001b[0m     \u001b[38;5;28mself\u001b[39m\u001b[38;5;241m.\u001b[39m_jobs\u001b[38;5;241m.\u001b[39minsert(job_idx, job)\n",
      "File \u001b[0;32m~/opt/anaconda3/lib/python3.9/site-packages/joblib/_parallel_backends.py:208\u001b[0m, in \u001b[0;36mSequentialBackend.apply_async\u001b[0;34m(self, func, callback)\u001b[0m\n\u001b[1;32m    206\u001b[0m \u001b[38;5;28;01mdef\u001b[39;00m \u001b[38;5;21mapply_async\u001b[39m(\u001b[38;5;28mself\u001b[39m, func, callback\u001b[38;5;241m=\u001b[39m\u001b[38;5;28;01mNone\u001b[39;00m):\n\u001b[1;32m    207\u001b[0m     \u001b[38;5;124;03m\"\"\"Schedule a func to be run\"\"\"\u001b[39;00m\n\u001b[0;32m--> 208\u001b[0m     result \u001b[38;5;241m=\u001b[39m \u001b[43mImmediateResult\u001b[49m\u001b[43m(\u001b[49m\u001b[43mfunc\u001b[49m\u001b[43m)\u001b[49m\n\u001b[1;32m    209\u001b[0m     \u001b[38;5;28;01mif\u001b[39;00m callback:\n\u001b[1;32m    210\u001b[0m         callback(result)\n",
      "File \u001b[0;32m~/opt/anaconda3/lib/python3.9/site-packages/joblib/_parallel_backends.py:572\u001b[0m, in \u001b[0;36mImmediateResult.__init__\u001b[0;34m(self, batch)\u001b[0m\n\u001b[1;32m    569\u001b[0m \u001b[38;5;28;01mdef\u001b[39;00m \u001b[38;5;21m__init__\u001b[39m(\u001b[38;5;28mself\u001b[39m, batch):\n\u001b[1;32m    570\u001b[0m     \u001b[38;5;66;03m# Don't delay the application, to avoid keeping the input\u001b[39;00m\n\u001b[1;32m    571\u001b[0m     \u001b[38;5;66;03m# arguments in memory\u001b[39;00m\n\u001b[0;32m--> 572\u001b[0m     \u001b[38;5;28mself\u001b[39m\u001b[38;5;241m.\u001b[39mresults \u001b[38;5;241m=\u001b[39m \u001b[43mbatch\u001b[49m\u001b[43m(\u001b[49m\u001b[43m)\u001b[49m\n",
      "File \u001b[0;32m~/opt/anaconda3/lib/python3.9/site-packages/joblib/parallel.py:262\u001b[0m, in \u001b[0;36mBatchedCalls.__call__\u001b[0;34m(self)\u001b[0m\n\u001b[1;32m    258\u001b[0m \u001b[38;5;28;01mdef\u001b[39;00m \u001b[38;5;21m__call__\u001b[39m(\u001b[38;5;28mself\u001b[39m):\n\u001b[1;32m    259\u001b[0m     \u001b[38;5;66;03m# Set the default nested backend to self._backend but do not set the\u001b[39;00m\n\u001b[1;32m    260\u001b[0m     \u001b[38;5;66;03m# change the default number of processes to -1\u001b[39;00m\n\u001b[1;32m    261\u001b[0m     \u001b[38;5;28;01mwith\u001b[39;00m parallel_backend(\u001b[38;5;28mself\u001b[39m\u001b[38;5;241m.\u001b[39m_backend, n_jobs\u001b[38;5;241m=\u001b[39m\u001b[38;5;28mself\u001b[39m\u001b[38;5;241m.\u001b[39m_n_jobs):\n\u001b[0;32m--> 262\u001b[0m         \u001b[38;5;28;01mreturn\u001b[39;00m [func(\u001b[38;5;241m*\u001b[39margs, \u001b[38;5;241m*\u001b[39m\u001b[38;5;241m*\u001b[39mkwargs)\n\u001b[1;32m    263\u001b[0m                 \u001b[38;5;28;01mfor\u001b[39;00m func, args, kwargs \u001b[38;5;129;01min\u001b[39;00m \u001b[38;5;28mself\u001b[39m\u001b[38;5;241m.\u001b[39mitems]\n",
      "File \u001b[0;32m~/opt/anaconda3/lib/python3.9/site-packages/joblib/parallel.py:262\u001b[0m, in \u001b[0;36m<listcomp>\u001b[0;34m(.0)\u001b[0m\n\u001b[1;32m    258\u001b[0m \u001b[38;5;28;01mdef\u001b[39;00m \u001b[38;5;21m__call__\u001b[39m(\u001b[38;5;28mself\u001b[39m):\n\u001b[1;32m    259\u001b[0m     \u001b[38;5;66;03m# Set the default nested backend to self._backend but do not set the\u001b[39;00m\n\u001b[1;32m    260\u001b[0m     \u001b[38;5;66;03m# change the default number of processes to -1\u001b[39;00m\n\u001b[1;32m    261\u001b[0m     \u001b[38;5;28;01mwith\u001b[39;00m parallel_backend(\u001b[38;5;28mself\u001b[39m\u001b[38;5;241m.\u001b[39m_backend, n_jobs\u001b[38;5;241m=\u001b[39m\u001b[38;5;28mself\u001b[39m\u001b[38;5;241m.\u001b[39m_n_jobs):\n\u001b[0;32m--> 262\u001b[0m         \u001b[38;5;28;01mreturn\u001b[39;00m [\u001b[43mfunc\u001b[49m\u001b[43m(\u001b[49m\u001b[38;5;241;43m*\u001b[39;49m\u001b[43margs\u001b[49m\u001b[43m,\u001b[49m\u001b[43m \u001b[49m\u001b[38;5;241;43m*\u001b[39;49m\u001b[38;5;241;43m*\u001b[39;49m\u001b[43mkwargs\u001b[49m\u001b[43m)\u001b[49m\n\u001b[1;32m    263\u001b[0m                 \u001b[38;5;28;01mfor\u001b[39;00m func, args, kwargs \u001b[38;5;129;01min\u001b[39;00m \u001b[38;5;28mself\u001b[39m\u001b[38;5;241m.\u001b[39mitems]\n",
      "File \u001b[0;32m~/opt/anaconda3/lib/python3.9/site-packages/sklearn/utils/fixes.py:216\u001b[0m, in \u001b[0;36m_FuncWrapper.__call__\u001b[0;34m(self, *args, **kwargs)\u001b[0m\n\u001b[1;32m    214\u001b[0m \u001b[38;5;28;01mdef\u001b[39;00m \u001b[38;5;21m__call__\u001b[39m(\u001b[38;5;28mself\u001b[39m, \u001b[38;5;241m*\u001b[39margs, \u001b[38;5;241m*\u001b[39m\u001b[38;5;241m*\u001b[39mkwargs):\n\u001b[1;32m    215\u001b[0m     \u001b[38;5;28;01mwith\u001b[39;00m config_context(\u001b[38;5;241m*\u001b[39m\u001b[38;5;241m*\u001b[39m\u001b[38;5;28mself\u001b[39m\u001b[38;5;241m.\u001b[39mconfig):\n\u001b[0;32m--> 216\u001b[0m         \u001b[38;5;28;01mreturn\u001b[39;00m \u001b[38;5;28;43mself\u001b[39;49m\u001b[38;5;241;43m.\u001b[39;49m\u001b[43mfunction\u001b[49m\u001b[43m(\u001b[49m\u001b[38;5;241;43m*\u001b[39;49m\u001b[43margs\u001b[49m\u001b[43m,\u001b[49m\u001b[43m \u001b[49m\u001b[38;5;241;43m*\u001b[39;49m\u001b[38;5;241;43m*\u001b[39;49m\u001b[43mkwargs\u001b[49m\u001b[43m)\u001b[49m\n",
      "File \u001b[0;32m~/opt/anaconda3/lib/python3.9/site-packages/sklearn/ensemble/_forest.py:185\u001b[0m, in \u001b[0;36m_parallel_build_trees\u001b[0;34m(tree, forest, X, y, sample_weight, tree_idx, n_trees, verbose, class_weight, n_samples_bootstrap)\u001b[0m\n\u001b[1;32m    182\u001b[0m     \u001b[38;5;28;01melif\u001b[39;00m class_weight \u001b[38;5;241m==\u001b[39m \u001b[38;5;124m\"\u001b[39m\u001b[38;5;124mbalanced_subsample\u001b[39m\u001b[38;5;124m\"\u001b[39m:\n\u001b[1;32m    183\u001b[0m         curr_sample_weight \u001b[38;5;241m*\u001b[39m\u001b[38;5;241m=\u001b[39m compute_sample_weight(\u001b[38;5;124m\"\u001b[39m\u001b[38;5;124mbalanced\u001b[39m\u001b[38;5;124m\"\u001b[39m, y, indices\u001b[38;5;241m=\u001b[39mindices)\n\u001b[0;32m--> 185\u001b[0m     \u001b[43mtree\u001b[49m\u001b[38;5;241;43m.\u001b[39;49m\u001b[43mfit\u001b[49m\u001b[43m(\u001b[49m\u001b[43mX\u001b[49m\u001b[43m,\u001b[49m\u001b[43m \u001b[49m\u001b[43my\u001b[49m\u001b[43m,\u001b[49m\u001b[43m \u001b[49m\u001b[43msample_weight\u001b[49m\u001b[38;5;241;43m=\u001b[39;49m\u001b[43mcurr_sample_weight\u001b[49m\u001b[43m,\u001b[49m\u001b[43m \u001b[49m\u001b[43mcheck_input\u001b[49m\u001b[38;5;241;43m=\u001b[39;49m\u001b[38;5;28;43;01mFalse\u001b[39;49;00m\u001b[43m)\u001b[49m\n\u001b[1;32m    186\u001b[0m \u001b[38;5;28;01melse\u001b[39;00m:\n\u001b[1;32m    187\u001b[0m     tree\u001b[38;5;241m.\u001b[39mfit(X, y, sample_weight\u001b[38;5;241m=\u001b[39msample_weight, check_input\u001b[38;5;241m=\u001b[39m\u001b[38;5;28;01mFalse\u001b[39;00m)\n",
      "File \u001b[0;32m~/opt/anaconda3/lib/python3.9/site-packages/sklearn/tree/_classes.py:937\u001b[0m, in \u001b[0;36mDecisionTreeClassifier.fit\u001b[0;34m(self, X, y, sample_weight, check_input, X_idx_sorted)\u001b[0m\n\u001b[1;32m    899\u001b[0m \u001b[38;5;28;01mdef\u001b[39;00m \u001b[38;5;21mfit\u001b[39m(\n\u001b[1;32m    900\u001b[0m     \u001b[38;5;28mself\u001b[39m, X, y, sample_weight\u001b[38;5;241m=\u001b[39m\u001b[38;5;28;01mNone\u001b[39;00m, check_input\u001b[38;5;241m=\u001b[39m\u001b[38;5;28;01mTrue\u001b[39;00m, X_idx_sorted\u001b[38;5;241m=\u001b[39m\u001b[38;5;124m\"\u001b[39m\u001b[38;5;124mdeprecated\u001b[39m\u001b[38;5;124m\"\u001b[39m\n\u001b[1;32m    901\u001b[0m ):\n\u001b[1;32m    902\u001b[0m     \u001b[38;5;124;03m\"\"\"Build a decision tree classifier from the training set (X, y).\u001b[39;00m\n\u001b[1;32m    903\u001b[0m \n\u001b[1;32m    904\u001b[0m \u001b[38;5;124;03m    Parameters\u001b[39;00m\n\u001b[0;32m   (...)\u001b[0m\n\u001b[1;32m    934\u001b[0m \u001b[38;5;124;03m        Fitted estimator.\u001b[39;00m\n\u001b[1;32m    935\u001b[0m \u001b[38;5;124;03m    \"\"\"\u001b[39;00m\n\u001b[0;32m--> 937\u001b[0m     \u001b[38;5;28;43msuper\u001b[39;49m\u001b[43m(\u001b[49m\u001b[43m)\u001b[49m\u001b[38;5;241;43m.\u001b[39;49m\u001b[43mfit\u001b[49m\u001b[43m(\u001b[49m\n\u001b[1;32m    938\u001b[0m \u001b[43m        \u001b[49m\u001b[43mX\u001b[49m\u001b[43m,\u001b[49m\n\u001b[1;32m    939\u001b[0m \u001b[43m        \u001b[49m\u001b[43my\u001b[49m\u001b[43m,\u001b[49m\n\u001b[1;32m    940\u001b[0m \u001b[43m        \u001b[49m\u001b[43msample_weight\u001b[49m\u001b[38;5;241;43m=\u001b[39;49m\u001b[43msample_weight\u001b[49m\u001b[43m,\u001b[49m\n\u001b[1;32m    941\u001b[0m \u001b[43m        \u001b[49m\u001b[43mcheck_input\u001b[49m\u001b[38;5;241;43m=\u001b[39;49m\u001b[43mcheck_input\u001b[49m\u001b[43m,\u001b[49m\n\u001b[1;32m    942\u001b[0m \u001b[43m        \u001b[49m\u001b[43mX_idx_sorted\u001b[49m\u001b[38;5;241;43m=\u001b[39;49m\u001b[43mX_idx_sorted\u001b[49m\u001b[43m,\u001b[49m\n\u001b[1;32m    943\u001b[0m \u001b[43m    \u001b[49m\u001b[43m)\u001b[49m\n\u001b[1;32m    944\u001b[0m     \u001b[38;5;28;01mreturn\u001b[39;00m \u001b[38;5;28mself\u001b[39m\n",
      "File \u001b[0;32m~/opt/anaconda3/lib/python3.9/site-packages/sklearn/tree/_classes.py:420\u001b[0m, in \u001b[0;36mBaseDecisionTree.fit\u001b[0;34m(self, X, y, sample_weight, check_input, X_idx_sorted)\u001b[0m\n\u001b[1;32m    409\u001b[0m \u001b[38;5;28;01melse\u001b[39;00m:\n\u001b[1;32m    410\u001b[0m     builder \u001b[38;5;241m=\u001b[39m BestFirstTreeBuilder(\n\u001b[1;32m    411\u001b[0m         splitter,\n\u001b[1;32m    412\u001b[0m         min_samples_split,\n\u001b[0;32m   (...)\u001b[0m\n\u001b[1;32m    417\u001b[0m         \u001b[38;5;28mself\u001b[39m\u001b[38;5;241m.\u001b[39mmin_impurity_decrease,\n\u001b[1;32m    418\u001b[0m     )\n\u001b[0;32m--> 420\u001b[0m \u001b[43mbuilder\u001b[49m\u001b[38;5;241;43m.\u001b[39;49m\u001b[43mbuild\u001b[49m\u001b[43m(\u001b[49m\u001b[38;5;28;43mself\u001b[39;49m\u001b[38;5;241;43m.\u001b[39;49m\u001b[43mtree_\u001b[49m\u001b[43m,\u001b[49m\u001b[43m \u001b[49m\u001b[43mX\u001b[49m\u001b[43m,\u001b[49m\u001b[43m \u001b[49m\u001b[43my\u001b[49m\u001b[43m,\u001b[49m\u001b[43m \u001b[49m\u001b[43msample_weight\u001b[49m\u001b[43m)\u001b[49m\n\u001b[1;32m    422\u001b[0m \u001b[38;5;28;01mif\u001b[39;00m \u001b[38;5;28mself\u001b[39m\u001b[38;5;241m.\u001b[39mn_outputs_ \u001b[38;5;241m==\u001b[39m \u001b[38;5;241m1\u001b[39m \u001b[38;5;129;01mand\u001b[39;00m is_classifier(\u001b[38;5;28mself\u001b[39m):\n\u001b[1;32m    423\u001b[0m     \u001b[38;5;28mself\u001b[39m\u001b[38;5;241m.\u001b[39mn_classes_ \u001b[38;5;241m=\u001b[39m \u001b[38;5;28mself\u001b[39m\u001b[38;5;241m.\u001b[39mn_classes_[\u001b[38;5;241m0\u001b[39m]\n",
      "\u001b[0;31mKeyboardInterrupt\u001b[0m: "
     ]
    }
   ],
   "source": [
    "# looking for the best range of n_estimators hyperparameter in the range of (1, 1000)\n",
    "prev_score = 0\n",
    "\n",
    "for i in range(1, 1002, 50):\n",
    "    # training digits classifier on each domain\n",
    "    domain_digit_clfs = {}\n",
    "\n",
    "    start_time = time.time()\n",
    "    for tag in domain_tags:   \n",
    "        tag_train_features = tag_train_features_dic[tag]\n",
    "        tag_train_digits = tag_train_digits_dic[tag]\n",
    "        \n",
    "        domain_digit_clf = RandomForestClassifier(n_estimators=i, random_state=123)\n",
    "        domain_digit_clf.fit(tag_train_features, tag_train_digits)\n",
    "\n",
    "        domain_digit_clfs[tag] = domain_digit_clf\n",
    "        \n",
    "    end_time = time.time()\n",
    "    elapsed_time = int((end_time - start_time) / 60)\n",
    "   \n",
    "    # clfs test\n",
    "    weighted_scores = 0\n",
    "    weighted_sum = 0\n",
    "    for tag in domain_tags:\n",
    "        tag_test_features = tag_test_features_dic[tag]\n",
    "        tag_test_digits = tag_test_digits_dic[tag]\n",
    "        \n",
    "        tag_test_digits_predict = domain_digit_clfs[tag].predict(tag_test_features)\n",
    "        score = f1_score(tag_test_digits, tag_test_digits_predict, average='weighted')\n",
    "    \n",
    "        weighted_scores += (score * len(tag_test_features))\n",
    "        weighted_sum += len(tag_test_features)\n",
    "                \n",
    "    score = weighted_scores / weighted_sum\n",
    "    print(f'clf with n_estimators = {i}, trained in ({elapsed_time}) minutes, accuracy = {score}')\n",
    "       \n",
    "    # checking whether time to train the model exeeds the limit\n",
    "    # or the training has converged increasing this hyperparameter\n",
    "    score_dif = score - prev_score\n",
    "    \n",
    "    if((elapsed_time >= train_elapsed_time_threshold) or (score_dif < converge_accuracy_difference)):\n",
    "        break\n",
    "        \n",
    "    prev_score = score\n",
    "print('---done training---')"
   ]
  },
  {
   "cell_type": "code",
   "execution_count": 81,
   "id": "2736ecca",
   "metadata": {},
   "outputs": [
    {
     "name": "stdout",
     "output_type": "stream",
     "text": [
      "clf with n_estimators = 2, trained in (0) minutes, accuracy = 0.8530367030564782\n",
      "clf with n_estimators = 102, trained in (0) minutes, accuracy = 0.8256307134731351\n",
      "clf with n_estimators = 202, trained in (0) minutes, accuracy = 0.7884434091356756\n",
      "clf with n_estimators = 302, trained in (0) minutes, accuracy = 0.7498950622610384\n",
      "clf with n_estimators = 402, trained in (0) minutes, accuracy = 0.7238352125052945\n",
      "clf with n_estimators = 502, trained in (0) minutes, accuracy = 0.7046771161758948\n",
      "clf with n_estimators = 602, trained in (0) minutes, accuracy = 0.6914142017182344\n",
      "clf with n_estimators = 702, trained in (0) minutes, accuracy = 0.6796002511768034\n",
      "clf with n_estimators = 802, trained in (0) minutes, accuracy = 0.6630377802949193\n",
      "clf with n_estimators = 902, trained in (0) minutes, accuracy = 0.6415056758174238\n",
      "clf with n_estimators = 1002, trained in (0) minutes, accuracy = 0.6206034631391524\n",
      "---done training---\n"
     ]
    }
   ],
   "source": [
    "# looking for the best range of min_samples_split hyperparameter in the range of (1, 1000)\n",
    "prev_score = 0\n",
    "n_estimators = 50\n",
    "\n",
    "for i in range(2, 1003, 100):\n",
    "    # training digits classifier on each domain\n",
    "    domain_digit_clfs = {}\n",
    "\n",
    "    start_time = time.time()\n",
    "    for tag in domain_tags:   \n",
    "        tag_train_features = tag_train_features_dic[tag]\n",
    "        tag_train_digits = tag_train_digits_dic[tag]\n",
    "        \n",
    "        domain_digit_clf = RandomForestClassifier(n_estimators=n_estimators, min_samples_split=i, random_state=123)\n",
    "        domain_digit_clf.fit(tag_train_features, tag_train_digits)\n",
    "\n",
    "        domain_digit_clfs[tag] = domain_digit_clf\n",
    "        \n",
    "    end_time = time.time()\n",
    "    elapsed_time = int((end_time - start_time) / 60)\n",
    "   \n",
    "    # clfs test\n",
    "    weighted_scores = 0\n",
    "    weighted_sum = 0\n",
    "    for tag in domain_tags:\n",
    "        tag_test_features = tag_test_features_dic[tag]\n",
    "        tag_test_digits = tag_test_digits_dic[tag]\n",
    "        \n",
    "        tag_test_digits_predict = domain_digit_clfs[tag].predict(tag_test_features)\n",
    "        score = f1_score(tag_test_digits, tag_test_digits_predict, average='weighted')\n",
    "    \n",
    "        weighted_scores += (score * len(tag_test_features))\n",
    "        weighted_sum += len(tag_test_features)\n",
    "                \n",
    "    score = weighted_scores / weighted_sum\n",
    "    print(f'clf with n_estimators = {i}, trained in ({elapsed_time}) minutes, accuracy = {score}')\n",
    "       \n",
    "    # checking whether time to train the model exeeds the limit\n",
    "    # or the training has converged increasing this hyperparameter\n",
    "    score_dif = score - prev_score\n",
    "    \n",
    "    if(elapsed_time >= train_elapsed_time_threshold):\n",
    "        break\n",
    "        \n",
    "    prev_score = score\n",
    "print('---done training---')"
   ]
  },
  {
   "cell_type": "code",
   "execution_count": 82,
   "id": "422ea701",
   "metadata": {},
   "outputs": [
    {
     "name": "stdout",
     "output_type": "stream",
     "text": [
      "clf with n_estimators = 2, trained in (0) minutes, accuracy = 0.8530367030564782\n",
      "clf with n_estimators = 12, trained in (0) minutes, accuracy = 0.8587573080352551\n",
      "clf with n_estimators = 22, trained in (0) minutes, accuracy = 0.8564753952763637\n",
      "clf with n_estimators = 32, trained in (0) minutes, accuracy = 0.8537813038420958\n",
      "clf with n_estimators = 42, trained in (0) minutes, accuracy = 0.8535221559815008\n",
      "clf with n_estimators = 52, trained in (0) minutes, accuracy = 0.8461440938060807\n",
      "clf with n_estimators = 62, trained in (0) minutes, accuracy = 0.8402377163282031\n",
      "clf with n_estimators = 72, trained in (0) minutes, accuracy = 0.840144860631676\n",
      "clf with n_estimators = 82, trained in (0) minutes, accuracy = 0.8346284775164066\n",
      "clf with n_estimators = 92, trained in (0) minutes, accuracy = 0.8315001544541731\n",
      "clf with n_estimators = 102, trained in (0) minutes, accuracy = 0.8256307134731351\n",
      "---done training---\n"
     ]
    }
   ],
   "source": [
    "# looking for the best range of min_samples_split hyperparameter in the range of (1, 100)\n",
    "prev_score = 0\n",
    "n_estimators = 50\n",
    "\n",
    "for i in range(2, 103, 10):\n",
    "    # training digits classifier on each domain\n",
    "    domain_digit_clfs = {}\n",
    "\n",
    "    start_time = time.time()\n",
    "    for tag in domain_tags:   \n",
    "        tag_train_features = tag_train_features_dic[tag]\n",
    "        tag_train_digits = tag_train_digits_dic[tag]\n",
    "        \n",
    "        domain_digit_clf = RandomForestClassifier(n_estimators=n_estimators, min_samples_split=i, random_state=123)\n",
    "        domain_digit_clf.fit(tag_train_features, tag_train_digits)\n",
    "\n",
    "        domain_digit_clfs[tag] = domain_digit_clf\n",
    "        \n",
    "    end_time = time.time()\n",
    "    elapsed_time = int((end_time - start_time) / 60)\n",
    "   \n",
    "    # clfs test\n",
    "    weighted_scores = 0\n",
    "    weighted_sum = 0\n",
    "    for tag in domain_tags:\n",
    "        tag_test_features = tag_test_features_dic[tag]\n",
    "        tag_test_digits = tag_test_digits_dic[tag]\n",
    "        \n",
    "        tag_test_digits_predict = domain_digit_clfs[tag].predict(tag_test_features)\n",
    "        score = f1_score(tag_test_digits, tag_test_digits_predict, average='weighted')\n",
    "    \n",
    "        weighted_scores += (score * len(tag_test_features))\n",
    "        weighted_sum += len(tag_test_features)\n",
    "                \n",
    "    score = weighted_scores / weighted_sum\n",
    "    print(f'clf with n_estimators = {i}, trained in ({elapsed_time}) minutes, accuracy = {score}')\n",
    "       \n",
    "    # checking whether time to train the model exeeds the limit\n",
    "    # or the training has converged increasing this hyperparameter\n",
    "    score_dif = score - prev_score\n",
    "    \n",
    "    if(elapsed_time >= train_elapsed_time_threshold):\n",
    "        break\n",
    "        \n",
    "    prev_score = score\n",
    "print('---done training---')"
   ]
  },
  {
   "cell_type": "code",
   "execution_count": 95,
   "id": "ade02cad",
   "metadata": {},
   "outputs": [],
   "source": [
    "# training digits classifier on each domain using desired hyperparameters\n",
    "n_estimators = 200\n",
    "min_samples_split = 20\n",
    "domain_digit_clfs = {}\n",
    "\n",
    "for tag in domain_tags:  \n",
    "    tag_train_features = tag_train_features_dic[tag]\n",
    "    tag_train_digits = tag_train_digits_dic[tag]\n",
    "    \n",
    "    domain_digit_clf = RandomForestClassifier(n_estimators=n_estimators, min_samples_split=min_samples_split, random_state=123)\n",
    "    domain_digit_clf.fit(tag_train_features, tag_train_digits)\n",
    "    \n",
    "    save_clf(domain_digit_clf, f'{tag}_digit_clf', n_estimators=n_estimators, min_samples_split=min_samples_split)\n",
    "    \n",
    "    domain_digit_clfs[tag] = domain_digit_clf"
   ]
  },
  {
   "cell_type": "code",
   "execution_count": 100,
   "id": "ad2c9b26",
   "metadata": {},
   "outputs": [
    {
     "name": "stdout",
     "output_type": "stream",
     "text": [
      "class 0: f1_score on train data (split based on true domain) = 0.9987995651372393\n",
      "class 1: f1_score on train data (split based on true domain) = 0.9987995037175855\n",
      "class 2: f1_score on train data (split based on true domain) = 0.9944079277629717\n",
      "class 3: f1_score on train data (split based on true domain) = 0.9989997880088513\n",
      "class 4: f1_score on train data (split based on true domain) = 0.9996000273116841\n",
      "f1_score on train data (split based on true domain) = 0.9981213623876665\n",
      "\n",
      "class 0: f1_score on train data (split based on predicted domain) = 0.9967633711534225\n",
      "class 1: f1_score on train data (split based on predicted domain) = 0.9926309468536039\n",
      "class 2: f1_score on train data (split based on predicted domain) = 0.9693810675044698\n",
      "class 3: f1_score on train data (split based on predicted domain) = 0.9983767696734978\n",
      "class 4: f1_score on train data (split based on predicted domain) = 0.9989333012693208\n",
      "f1_score on train data (split based on predicted domain) = 0.9906237062692197\n",
      "\n",
      "class 0: f1_score on test data (split based on true domain) = 0.968148350995694\n",
      "class 1: f1_score on test data (split based on true domain) = 0.8521523855414853\n",
      "class 2: f1_score on test data (split based on true domain) = 0.7386932303643744\n",
      "class 3: f1_score on test data (split based on true domain) = 0.8402676141846696\n",
      "class 4: f1_score on test data (split based on true domain) = 0.9852111064139568\n",
      "f1_score on test data (split based on true domain) = 0.876894537500036\n",
      "\n",
      "class 0: f1_score on test data (split based on predicted domain) = 0.9660559432944722\n",
      "class 1: f1_score on test data (split based on predicted domain) = 0.8327628516073884\n",
      "class 2: f1_score on test data (split based on predicted domain) = 0.7279498670106969\n",
      "class 3: f1_score on test data (split based on predicted domain) = 0.840805026163304\n",
      "class 4: f1_score on test data (split based on predicted domain) = 0.9836199715233312\n",
      "f1_score on test data (split based on predicted domain) = 0.8700246793306167\n"
     ]
    }
   ],
   "source": [
    "### accuracy test of the final models ###\n",
    "\n",
    "# accuracy on train data (split based on true domain)\n",
    "weighted_score_sum = 0\n",
    "weight_sum = 0\n",
    "for tag in domain_tags:\n",
    "    digit_clf = domain_digit_clfs[tag]\n",
    "    tag_train_features = tag_train_features_dic[tag]\n",
    "    tag_train_digits = tag_train_digits_dic[tag]\n",
    "    \n",
    "    tag_train_digits_predict = digit_clf.predict(tag_train_features)\n",
    "    score = f1_score(tag_train_digits, tag_train_digits_predict, average='weighted')\n",
    "    print(f'class {tag}: f1_score on train data (split based on true domain) = {score}')\n",
    "\n",
    "    weighted_score_sum += (score * len(tag_train_features))\n",
    "    weight_sum += len(tag_train_features)\n",
    "    \n",
    "weighted_score = (weighted_score_sum / weight_sum)\n",
    "print(f'f1_score on train data (split based on true domain) = {weighted_score}')\n",
    "\n",
    "# accuracy on train data (split based on predicted domain)\n",
    "print()\n",
    "train_domains_predict = domain_clf.predict(train_features)\n",
    "weighted_score_sum = 0\n",
    "weight_sum = 0\n",
    "\n",
    "for tag in domain_tags:\n",
    "    digit_clf = domain_digit_clfs[tag]\n",
    "    tag_train_features = train_features[train_domains_predict == tag]\n",
    "    tag_train_digits = train_digits[train_domains_predict == tag]\n",
    "    \n",
    "    tag_train_digits_predict = digit_clf.predict(tag_train_features)\n",
    "    score = f1_score(tag_train_digits, tag_train_digits_predict, average='weighted')\n",
    "    print(f'class {tag}: f1_score on train data (split based on predicted domain) = {score}')\n",
    "\n",
    "    weighted_score_sum += (score * len(tag_train_features))\n",
    "    weight_sum += len(tag_train_features)\n",
    "    \n",
    "weighted_score = (weighted_score_sum / weight_sum)\n",
    "print(f'f1_score on train data (split based on predicted domain) = {weighted_score}')\n",
    "\n",
    "# accuracy on test data (split based on true domain)\n",
    "print()\n",
    "weighted_score_sum = 0\n",
    "weight_sum = 0\n",
    "for tag in domain_tags:\n",
    "    digit_clf = domain_digit_clfs[tag]\n",
    "    tag_test_features = tag_test_features_dic[tag]\n",
    "    tag_test_digits = tag_test_digits_dic[tag]\n",
    "    \n",
    "    tag_test_digits_predict = digit_clf.predict(tag_test_features)\n",
    "    score = f1_score(tag_test_digits, tag_test_digits_predict, average='weighted')\n",
    "    print(f'class {tag}: f1_score on test data (split based on true domain) = {score}')\n",
    "\n",
    "    weighted_score_sum += (score * len(tag_test_features))\n",
    "    weight_sum += len(tag_test_features)\n",
    "    \n",
    "weighted_score = (weighted_score_sum / weight_sum)\n",
    "print(f'f1_score on test data (split based on true domain) = {weighted_score}')\n",
    "\n",
    "\n",
    "# accuracy on test data (split based on predicted domain)\n",
    "print()\n",
    "test_domains_predict = domain_clf.predict(test_features)\n",
    "weighted_score_sum = 0\n",
    "weight_sum = 0\n",
    "for tag in domain_tags:\n",
    "    digit_clf = domain_digit_clfs[tag]\n",
    "    tag_test_features = test_features[test_domains_predict == tag]\n",
    "    tag_test_digits = test_digits[test_domains_predict == tag]\n",
    "    \n",
    "    tag_test_digits_predict = digit_clf.predict(tag_test_features)\n",
    "    score = f1_score(tag_test_digits, tag_test_digits_predict, average='weighted')\n",
    "    print(f'class {tag}: f1_score on test data (split based on predicted domain) = {score}')\n",
    "\n",
    "    weighted_score_sum += (score * len(tag_test_features))\n",
    "    weight_sum += len(tag_test_features)\n",
    "    \n",
    "weighted_score = (weighted_score_sum / weight_sum)\n",
    "print(f'f1_score on test data (split based on predicted domain) = {weighted_score}')"
   ]
  }
 ],
 "metadata": {
  "kernelspec": {
   "display_name": "Python 3 (ipykernel)",
   "language": "python",
   "name": "python3"
  },
  "language_info": {
   "codemirror_mode": {
    "name": "ipython",
    "version": 3
   },
   "file_extension": ".py",
   "mimetype": "text/x-python",
   "name": "python",
   "nbconvert_exporter": "python",
   "pygments_lexer": "ipython3",
   "version": "3.9.12"
  }
 },
 "nbformat": 4,
 "nbformat_minor": 5
}
