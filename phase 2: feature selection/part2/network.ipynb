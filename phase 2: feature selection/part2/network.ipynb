{
 "cells": [
  {
   "cell_type": "code",
   "execution_count": 1,
   "metadata": {
    "id": "aZVw37eXzR2u"
   },
   "outputs": [
    {
     "name": "stderr",
     "output_type": "stream",
     "text": [
      "2023-06-12 08:55:42.256376: I tensorflow/core/util/port.cc:110] oneDNN custom operations are on. You may see slightly different numerical results due to floating-point round-off errors from different computation orders. To turn them off, set the environment variable `TF_ENABLE_ONEDNN_OPTS=0`.\n",
      "2023-06-12 08:55:42.288841: I tensorflow/tsl/cuda/cudart_stub.cc:28] Could not find cuda drivers on your machine, GPU will not be used.\n",
      "2023-06-12 08:55:42.491122: I tensorflow/tsl/cuda/cudart_stub.cc:28] Could not find cuda drivers on your machine, GPU will not be used.\n",
      "2023-06-12 08:55:42.492428: I tensorflow/core/platform/cpu_feature_guard.cc:182] This TensorFlow binary is optimized to use available CPU instructions in performance-critical operations.\n",
      "To enable the following instructions: AVX2 AVX512F AVX512_VNNI FMA, in other operations, rebuild TensorFlow with the appropriate compiler flags.\n",
      "2023-06-12 08:55:44.590111: W tensorflow/compiler/tf2tensorrt/utils/py_utils.cc:38] TF-TRT Warning: Could not find TensorRT\n"
     ]
    }
   ],
   "source": [
    "import tensorflow as tf\n",
    "from tensorflow.keras.utils import plot_model\n",
    "import numpy as np\n",
    "from typing import Tuple\n",
    "import seaborn as sns\n",
    "from sklearn.svm import SVC\n",
    "from sklearn.metrics import classification_report, confusion_matrix, accuracy_score\n",
    "from sklearn.model_selection import GridSearchCV"
   ]
  },
  {
   "cell_type": "code",
   "execution_count": 2,
   "metadata": {},
   "outputs": [
    {
     "name": "stdout",
     "output_type": "stream",
     "text": [
      "(5000, 1024)\n",
      "(array([0, 1, 2, 3, 4, 5, 6, 7, 8, 9]), array([563, 633, 529, 482, 486, 456, 504, 486, 442, 419]))\n",
      "(5000, 1024)\n",
      "(array([0, 1, 2, 3, 4, 5, 6, 7, 8, 9]), array([483, 539, 539, 484, 490, 526, 483, 506, 471, 479]))\n"
     ]
    }
   ],
   "source": [
    "# Load the data and label\n",
    "def load_data(filename: str) -> Tuple[np.ndarray, np.ndarray]:\n",
    "    data = np.load(f'{filename}')\n",
    "    return data['data'], data['labels']\n",
    "# Split the data and labels into training and testing sets\n",
    "train_data, train_labels = load_data('train_data_SYN.npz')\n",
    "print(train_data.shape)\n",
    "print(np.unique(train_labels, return_counts=True))\n",
    "test_data, test_labels = load_data('test_data_SYN.npz')\n",
    "print(test_data.shape)\n",
    "print(np.unique(test_labels, return_counts=True))\n",
    "x_train = train_data\n",
    "y_train = train_labels\n",
    "x_test = test_data\n",
    "y_test = test_labels"
   ]
  },
  {
   "cell_type": "code",
   "execution_count": 3,
   "metadata": {
    "id": "wtBelgPpzMZG"
   },
   "outputs": [
    {
     "name": "stderr",
     "output_type": "stream",
     "text": [
      "2023-06-12 08:55:56.548680: I tensorflow/compiler/xla/stream_executor/cuda/cuda_gpu_executor.cc:996] successful NUMA node read from SysFS had negative value (-1), but there must be at least one NUMA node, so returning NUMA node zero. See more at https://github.com/torvalds/linux/blob/v6.0/Documentation/ABI/testing/sysfs-bus-pci#L344-L355\n",
      "2023-06-12 08:55:56.550376: W tensorflow/core/common_runtime/gpu/gpu_device.cc:1956] Cannot dlopen some GPU libraries. Please make sure the missing libraries mentioned above are installed properly if you would like to use GPU. Follow the guide at https://www.tensorflow.org/install/gpu for how to download and setup the required libraries for your platform.\n",
      "Skipping registering GPU devices...\n"
     ]
    },
    {
     "name": "stdout",
     "output_type": "stream",
     "text": [
      "Epoch 1/10\n",
      "157/157 [==============================] - 3s 9ms/step - loss: 1.0232 - accuracy: 0.6832 - val_loss: 0.6126 - val_accuracy: 0.8140\n",
      "Epoch 2/10\n",
      "157/157 [==============================] - 1s 6ms/step - loss: 0.3784 - accuracy: 0.8906 - val_loss: 0.5070 - val_accuracy: 0.8402\n",
      "Epoch 3/10\n",
      "157/157 [==============================] - 1s 6ms/step - loss: 0.2654 - accuracy: 0.9280 - val_loss: 0.4411 - val_accuracy: 0.8642\n",
      "Epoch 4/10\n",
      "157/157 [==============================] - 1s 6ms/step - loss: 0.1992 - accuracy: 0.9486 - val_loss: 0.4322 - val_accuracy: 0.8658\n",
      "Epoch 5/10\n",
      "157/157 [==============================] - 1s 6ms/step - loss: 0.1522 - accuracy: 0.9648 - val_loss: 0.4298 - val_accuracy: 0.8704\n",
      "Epoch 6/10\n",
      "157/157 [==============================] - 1s 6ms/step - loss: 0.1189 - accuracy: 0.9804 - val_loss: 0.4404 - val_accuracy: 0.8682\n",
      "Epoch 7/10\n",
      "157/157 [==============================] - 1s 5ms/step - loss: 0.0930 - accuracy: 0.9878 - val_loss: 0.4459 - val_accuracy: 0.8694\n",
      "Epoch 8/10\n",
      "157/157 [==============================] - 1s 6ms/step - loss: 0.0758 - accuracy: 0.9900 - val_loss: 0.4656 - val_accuracy: 0.8656\n",
      "Epoch 9/10\n",
      "157/157 [==============================] - 1s 5ms/step - loss: 0.0610 - accuracy: 0.9940 - val_loss: 0.4684 - val_accuracy: 0.8664\n",
      "Epoch 10/10\n",
      "157/157 [==============================] - 1s 5ms/step - loss: 0.0486 - accuracy: 0.9960 - val_loss: 0.4864 - val_accuracy: 0.8676\n",
      "157/157 [==============================] - 0s 3ms/step - loss: 0.4864 - accuracy: 0.8676\n",
      "reg_l1_param: 0.0001  hidden_size: 32  Test accuracy: 0.8676000237464905\n"
     ]
    },
    {
     "data": {
      "image/png": "[encoded data removed]",
      "text/plain": [
       "<IPython.core.display.Image object>"
      ]
     },
     "execution_count": 3,
     "metadata": {},
     "output_type": "execute_result"
    }
   ],
   "source": [
    "input_tensor = tf.keras.Input(shape=(1024,))\n",
    "\n",
    "hidden_size = 32\n",
    "reg_l1_param = 10e-5\n",
    "\n",
    "hidden_layer_1 = tf.keras.layers.Dense(units=hidden_size, activation=tf.nn.relu, \n",
    "                                       name = 'hidden_layer',\n",
    "                                       activity_regularizer=tf.keras.regularizers.l1(reg_l1_param))(input_tensor)\n",
    "\n",
    "output_layer = tf.keras.layers.Dense(units=10, activation=tf.nn.softmax, name = 'classification_layer')(hidden_layer_1)\n",
    "\n",
    "model = tf.keras.Model(inputs=input_tensor, outputs=output_layer)\n",
    "model.compile(optimizer='adam', loss='sparse_categorical_crossentropy', metrics=['accuracy'])\n",
    "\n",
    "history = model.fit(train_data, train_labels, epochs=10, batch_size=32, validation_data=(test_data, test_labels))\n",
    "test_loss, test_acc = model.evaluate(test_data, test_labels)\n",
    "\n",
    "print('reg_l1_param:', reg_l1_param, ' hidden_size:', hidden_size, ' Test accuracy:', test_acc)\n",
    "\n",
    "# Plot the model architecture\n",
    "plot_model(model, to_file='model.png', show_shapes=True)"
   ]
  },
  {
   "cell_type": "code",
   "execution_count": 7,
   "metadata": {},
   "outputs": [],
   "source": [
    "# input: # of features, x_train with n features, x_test with n features\n",
    "# return: hidden layer weights, prints accuracy\n",
    "def train_model(size: int, l1: float) -> float:\n",
    "    input_tensor = tf.keras.Input(shape=(1024,))\n",
    "    hidden_size = size\n",
    "    reg_l1_param = l1\n",
    "    hidden_layer_1 = tf.keras.layers.Dense(units=hidden_size, activation=tf.nn.relu, \n",
    "                                           name = 'hidden_layer',\n",
    "                                           activity_regularizer=tf.keras.regularizers.l1(reg_l1_param))(input_tensor)\n",
    "    output_layer = tf.keras.layers.Dense(units=10, activation=tf.nn.softmax, name = 'classification_layer')(hidden_layer_1)\n",
    "    model = tf.keras.Model(inputs=input_tensor, outputs=output_layer)\n",
    "    model.compile(optimizer='adam', loss='sparse_categorical_crossentropy', metrics=['accuracy'])\n",
    "    history = model.fit(x_train, y_train, epochs=10, batch_size=32, \n",
    "                        validation_data=(x_test, y_test))\n",
    "    test_loss, test_acc = model.evaluate(x_test, y_test)\n",
    "\n",
    "    return test_acc"
   ]
  },
  {
   "cell_type": "code",
   "execution_count": 24,
   "metadata": {
    "scrolled": true
   },
   "outputs": [
    {
     "name": "stdout",
     "output_type": "stream",
     "text": [
      "Epoch 1/10\n",
      "157/157 [==============================] - 3s 9ms/step - loss: 0.9843 - accuracy: 0.6832 - val_loss: 0.6791 - val_accuracy: 0.7846\n",
      "Epoch 2/10\n",
      "157/157 [==============================] - 1s 7ms/step - loss: 0.3846 - accuracy: 0.8852 - val_loss: 0.4743 - val_accuracy: 0.8508\n",
      "Epoch 3/10\n",
      "157/157 [==============================] - 1s 7ms/step - loss: 0.2651 - accuracy: 0.9216 - val_loss: 0.4854 - val_accuracy: 0.8472\n",
      "Epoch 4/10\n",
      "157/157 [==============================] - 1s 6ms/step - loss: 0.2033 - accuracy: 0.9460 - val_loss: 0.4570 - val_accuracy: 0.8542\n",
      "Epoch 5/10\n",
      "157/157 [==============================] - 1s 6ms/step - loss: 0.1602 - accuracy: 0.9640 - val_loss: 0.4388 - val_accuracy: 0.8658\n",
      "Epoch 6/10\n",
      "157/157 [==============================] - 1s 6ms/step - loss: 0.1249 - accuracy: 0.9744 - val_loss: 0.4276 - val_accuracy: 0.8682\n",
      "Epoch 7/10\n",
      "157/157 [==============================] - 1s 6ms/step - loss: 0.0968 - accuracy: 0.9840 - val_loss: 0.4422 - val_accuracy: 0.8652\n",
      "Epoch 8/10\n",
      "157/157 [==============================] - 1s 6ms/step - loss: 0.0785 - accuracy: 0.9878 - val_loss: 0.4590 - val_accuracy: 0.8620\n",
      "Epoch 9/10\n",
      "157/157 [==============================] - 1s 7ms/step - loss: 0.0629 - accuracy: 0.9930 - val_loss: 0.4512 - val_accuracy: 0.8666\n",
      "Epoch 10/10\n",
      "157/157 [==============================] - 1s 6ms/step - loss: 0.0511 - accuracy: 0.9968 - val_loss: 0.4750 - val_accuracy: 0.8624\n",
      "157/157 [==============================] - 1s 3ms/step - loss: 0.4750 - accuracy: 0.8624\n",
      "##### hidden_size: 32  reg_l1_param: 0.0001  test accuracy: 0.8623999953269958\n",
      "Epoch 1/10\n",
      "157/157 [==============================] - 2s 8ms/step - loss: 0.9888 - accuracy: 0.7050 - val_loss: 0.6810 - val_accuracy: 0.8058\n",
      "Epoch 2/10\n",
      "157/157 [==============================] - 1s 6ms/step - loss: 0.4355 - accuracy: 0.8880 - val_loss: 0.5683 - val_accuracy: 0.8352\n",
      "Epoch 3/10\n",
      "157/157 [==============================] - 1s 6ms/step - loss: 0.3110 - accuracy: 0.9304 - val_loss: 0.4932 - val_accuracy: 0.8592\n",
      "Epoch 4/10\n",
      "157/157 [==============================] - 1s 6ms/step - loss: 0.2480 - accuracy: 0.9470 - val_loss: 0.4962 - val_accuracy: 0.8548\n",
      "Epoch 5/10\n",
      "157/157 [==============================] - 1s 6ms/step - loss: 0.1994 - accuracy: 0.9644 - val_loss: 0.4958 - val_accuracy: 0.8514\n",
      "Epoch 6/10\n",
      "157/157 [==============================] - 1s 7ms/step - loss: 0.1694 - accuracy: 0.9756 - val_loss: 0.4669 - val_accuracy: 0.8694\n",
      "Epoch 7/10\n",
      "157/157 [==============================] - 1s 7ms/step - loss: 0.1362 - accuracy: 0.9860 - val_loss: 0.4634 - val_accuracy: 0.8690\n",
      "Epoch 8/10\n",
      "157/157 [==============================] - 1s 7ms/step - loss: 0.1153 - accuracy: 0.9908 - val_loss: 0.4677 - val_accuracy: 0.8692\n",
      "Epoch 9/10\n",
      "157/157 [==============================] - 1s 7ms/step - loss: 0.0983 - accuracy: 0.9948 - val_loss: 0.4664 - val_accuracy: 0.8692\n",
      "Epoch 10/10\n",
      "157/157 [==============================] - 1s 6ms/step - loss: 0.0863 - accuracy: 0.9988 - val_loss: 0.4675 - val_accuracy: 0.8710\n",
      "157/157 [==============================] - 1s 3ms/step - loss: 0.4675 - accuracy: 0.8710\n",
      "##### hidden_size: 32  reg_l1_param: 0.001  test accuracy: 0.8709999918937683\n",
      "Epoch 1/10\n",
      "157/157 [==============================] - 2s 8ms/step - loss: 1.2898 - accuracy: 0.6550 - val_loss: 0.9349 - val_accuracy: 0.7930\n",
      "Epoch 2/10\n",
      "157/157 [==============================] - 1s 6ms/step - loss: 0.6517 - accuracy: 0.8800 - val_loss: 0.7297 - val_accuracy: 0.8436\n",
      "Epoch 3/10\n",
      "157/157 [==============================] - 1s 7ms/step - loss: 0.5017 - accuracy: 0.9254 - val_loss: 0.6590 - val_accuracy: 0.8552\n",
      "Epoch 4/10\n",
      "157/157 [==============================] - 1s 6ms/step - loss: 0.4145 - accuracy: 0.9492 - val_loss: 0.6332 - val_accuracy: 0.8630\n",
      "Epoch 5/10\n",
      "157/157 [==============================] - 1s 7ms/step - loss: 0.3513 - accuracy: 0.9634 - val_loss: 0.6104 - val_accuracy: 0.8624\n",
      "Epoch 6/10\n",
      "157/157 [==============================] - 1s 6ms/step - loss: 0.3079 - accuracy: 0.9764 - val_loss: 0.5814 - val_accuracy: 0.8706\n",
      "Epoch 7/10\n",
      "157/157 [==============================] - 1s 7ms/step - loss: 0.2703 - accuracy: 0.9840 - val_loss: 0.5731 - val_accuracy: 0.8648\n",
      "Epoch 8/10\n",
      "157/157 [==============================] - 1s 6ms/step - loss: 0.2383 - accuracy: 0.9896 - val_loss: 0.5762 - val_accuracy: 0.8636\n",
      "Epoch 9/10\n",
      "157/157 [==============================] - 1s 7ms/step - loss: 0.2161 - accuracy: 0.9942 - val_loss: 0.5689 - val_accuracy: 0.8654\n",
      "Epoch 10/10\n",
      "157/157 [==============================] - 1s 6ms/step - loss: 0.1945 - accuracy: 0.9964 - val_loss: 0.5602 - val_accuracy: 0.8652\n",
      "157/157 [==============================] - 1s 3ms/step - loss: 0.5602 - accuracy: 0.8652\n",
      "##### hidden_size: 32  reg_l1_param: 0.01  test accuracy: 0.8651999831199646\n",
      "Epoch 1/10\n",
      "157/157 [==============================] - 2s 8ms/step - loss: 2.1307 - accuracy: 0.3582 - val_loss: 1.9315 - val_accuracy: 0.4686\n",
      "Epoch 2/10\n",
      "157/157 [==============================] - 1s 6ms/step - loss: 1.5813 - accuracy: 0.7284 - val_loss: 1.5523 - val_accuracy: 0.6882\n",
      "Epoch 3/10\n",
      "157/157 [==============================] - 1s 6ms/step - loss: 1.2851 - accuracy: 0.8204 - val_loss: 1.3423 - val_accuracy: 0.7772\n",
      "Epoch 4/10\n",
      "157/157 [==============================] - 1s 6ms/step - loss: 1.0819 - accuracy: 0.8840 - val_loss: 1.1678 - val_accuracy: 0.8264\n",
      "Epoch 5/10\n",
      "157/157 [==============================] - 1s 7ms/step - loss: 0.9219 - accuracy: 0.9172 - val_loss: 1.0613 - val_accuracy: 0.8474\n",
      "Epoch 6/10\n",
      "157/157 [==============================] - 1s 6ms/step - loss: 0.8145 - accuracy: 0.9342 - val_loss: 0.9899 - val_accuracy: 0.8536\n",
      "Epoch 7/10\n",
      "157/157 [==============================] - 1s 7ms/step - loss: 0.7353 - accuracy: 0.9414 - val_loss: 0.9400 - val_accuracy: 0.8554\n",
      "Epoch 8/10\n",
      "157/157 [==============================] - 1s 6ms/step - loss: 0.6741 - accuracy: 0.9506 - val_loss: 0.9277 - val_accuracy: 0.8526\n",
      "Epoch 9/10\n",
      "157/157 [==============================] - 1s 7ms/step - loss: 0.6219 - accuracy: 0.9604 - val_loss: 0.8905 - val_accuracy: 0.8574\n",
      "Epoch 10/10\n",
      "157/157 [==============================] - 1s 6ms/step - loss: 0.5796 - accuracy: 0.9650 - val_loss: 0.8751 - val_accuracy: 0.8572\n",
      "157/157 [==============================] - 1s 3ms/step - loss: 0.8751 - accuracy: 0.8572\n",
      "##### hidden_size: 32  reg_l1_param: 0.1  test accuracy: 0.857200026512146\n",
      "Epoch 1/10\n",
      "157/157 [==============================] - 2s 8ms/step - loss: 2.5666 - accuracy: 0.1184 - val_loss: 2.3041 - val_accuracy: 0.1068\n",
      "Epoch 2/10\n",
      "157/157 [==============================] - 1s 6ms/step - loss: 2.2996 - accuracy: 0.1266 - val_loss: 2.3039 - val_accuracy: 0.1076\n",
      "Epoch 3/10\n",
      "157/157 [==============================] - 1s 6ms/step - loss: 2.2977 - accuracy: 0.1266 - val_loss: 2.3043 - val_accuracy: 0.1078\n",
      "Epoch 4/10\n",
      "157/157 [==============================] - 1s 6ms/step - loss: 2.2968 - accuracy: 0.1266 - val_loss: 2.3050 - val_accuracy: 0.1078\n",
      "Epoch 5/10\n",
      "157/157 [==============================] - 1s 6ms/step - loss: 2.2965 - accuracy: 0.1266 - val_loss: 2.3056 - val_accuracy: 0.1078\n",
      "Epoch 6/10\n",
      "157/157 [==============================] - 1s 6ms/step - loss: 2.2963 - accuracy: 0.1266 - val_loss: 2.3060 - val_accuracy: 0.1078\n",
      "Epoch 7/10\n",
      "157/157 [==============================] - 1s 6ms/step - loss: 2.2962 - accuracy: 0.1266 - val_loss: 2.3065 - val_accuracy: 0.1078\n",
      "Epoch 8/10\n",
      "157/157 [==============================] - 1s 6ms/step - loss: 2.2961 - accuracy: 0.1266 - val_loss: 2.3068 - val_accuracy: 0.1078\n",
      "Epoch 9/10\n",
      "157/157 [==============================] - 1s 6ms/step - loss: 2.2960 - accuracy: 0.1266 - val_loss: 2.3069 - val_accuracy: 0.1078\n",
      "Epoch 10/10\n",
      "157/157 [==============================] - 1s 6ms/step - loss: 2.2961 - accuracy: 0.1266 - val_loss: 2.3072 - val_accuracy: 0.1078\n",
      "157/157 [==============================] - 0s 3ms/step - loss: 2.3072 - accuracy: 0.1078\n",
      "##### hidden_size: 32  reg_l1_param: 1.0  test accuracy: 0.10779999941587448\n"
     ]
    }
   ],
   "source": [
    "h_size = 32\n",
    "l1 = 0.00001\n",
    "for i in range(5):\n",
    "    l1 *= 10\n",
    "    acc = train_model(h_size, l1)\n",
    "    print('##### hidden_size:', h_size, ' reg_l1_param:', l1, ' test accuracy:', acc)"
   ]
  },
  {
   "cell_type": "code",
   "execution_count": null,
   "metadata": {},
   "outputs": [],
   "source": [
    "##### hidden_size: 32  reg_l1_param: 10e-06  test accuracy: 0.8677999973297119\n",
    "##### hidden_size: 32  reg_l1_param: 10e-05  test accuracy: 0.8646000027656555\n",
    "##### hidden_size: 32  reg_l1_param: 0.001  test accuracy: 0.871399998664856\n",
    "##### hidden_size: 32  reg_l1_param: 0.01  test accuracy: 0.8712000250816345\n",
    "##### hidden_size: 32  reg_l1_param: 0.1  test accuracy: 0.8483999967575073\n",
    "##### hidden_size: 32  reg_l1_param: 1.0  test accuracy: 0.10700000077486038\n",
    "\n",
    "##### hidden_size: 100  reg_l1_param: 0.001  test accuracy: 0.8835999965667725    #BEST\n",
    "##### hidden_size: 200  reg_l1_param: 0.001  test accuracy: 0.8903999924659729\n",
    "##### hidden_size: 300  reg_l1_param: 0.001  test accuracy: 0.8971999883651733\n",
    "##### hidden_size: 400  reg_l1_param: 0.001  test accuracy: 0.8956000208854675\n",
    "##### hidden_size: 500  reg_l1_param: 0.001  test accuracy: 0.8953999876976013\n",
    "\n",
    "##### hidden_size: 100  reg_l1_param: 0.0001  test accuracy: 0.8822000026702881\n",
    "##### hidden_size: 100  reg_l1_param: 0.01  test accuracy: 0.8808000087738037"
   ]
  }
 ],
 "metadata": {
  "colab": {
   "authorship_tag": "ABX9TyPNhLeU0bLbIWOSFo5YG7Gr",
   "provenance": []
  },
  "kernelspec": {
   "display_name": "Python 3 (ipykernel)",
   "language": "python",
   "name": "python3"
  },
  "language_info": {
   "codemirror_mode": {
    "name": "ipython",
    "version": 3
   },
   "file_extension": ".py",
   "mimetype": "text/x-python",
   "name": "python",
   "nbconvert_exporter": "python",
   "pygments_lexer": "ipython3",
   "version": "3.10.7"
  }
 },
 "nbformat": 4,
 "nbformat_minor": 1
}
