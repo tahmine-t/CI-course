{
 "cells": [
  {
   "cell_type": "code",
   "execution_count": 1,
   "metadata": {
    "id": "aZVw37eXzR2u"
   },
   "outputs": [
    {
     "name": "stderr",
     "output_type": "stream",
     "text": [
      "2023-06-13 08:57:32.264731: I tensorflow/core/util/port.cc:110] oneDNN custom operations are on. You may see slightly different numerical results due to floating-point round-off errors from different computation orders. To turn them off, set the environment variable `TF_ENABLE_ONEDNN_OPTS=0`.\n",
      "2023-06-13 08:57:32.300010: I tensorflow/tsl/cuda/cudart_stub.cc:28] Could not find cuda drivers on your machine, GPU will not be used.\n",
      "2023-06-13 08:57:32.506224: I tensorflow/tsl/cuda/cudart_stub.cc:28] Could not find cuda drivers on your machine, GPU will not be used.\n",
      "2023-06-13 08:57:32.507456: I tensorflow/core/platform/cpu_feature_guard.cc:182] This TensorFlow binary is optimized to use available CPU instructions in performance-critical operations.\n",
      "To enable the following instructions: AVX2 AVX512F AVX512_VNNI FMA, in other operations, rebuild TensorFlow with the appropriate compiler flags.\n",
      "2023-06-13 08:57:34.442316: W tensorflow/compiler/tf2tensorrt/utils/py_utils.cc:38] TF-TRT Warning: Could not find TensorRT\n"
     ]
    }
   ],
   "source": [
    "import numpy as np\n",
    "from typing import Tuple\n",
    "import seaborn as sns\n",
    "from sklearn.svm import SVC\n",
    "from sklearn.metrics import classification_report, confusion_matrix, accuracy_score\n",
    "from sklearn.model_selection import GridSearchCV\n",
    "import tensorflow as tf\n",
    "from tensorflow.keras.utils import plot_model"
   ]
  },
  {
   "cell_type": "code",
   "execution_count": 2,
   "metadata": {},
   "outputs": [
    {
     "name": "stdout",
     "output_type": "stream",
     "text": [
      "(5000, 1024)\n",
      "(array([0, 1, 2, 3, 4, 5, 6, 7, 8, 9]), array([563, 633, 529, 482, 486, 456, 504, 486, 442, 419]))\n",
      "(5000, 1024)\n",
      "(array([0, 1, 2, 3, 4, 5, 6, 7, 8, 9]), array([483, 539, 539, 484, 490, 526, 483, 506, 471, 479]))\n"
     ]
    }
   ],
   "source": [
    "# Load the data and label\n",
    "def load_data(filename: str) -> Tuple[np.ndarray, np.ndarray]:\n",
    "    data = np.load(f'{filename}')\n",
    "    return data['data'], data['labels']\n",
    "# Split the data and labels into training and testing sets\n",
    "train_data, train_labels = load_data('train_data_SYN.npz')\n",
    "print(train_data.shape)\n",
    "print(np.unique(train_labels, return_counts=True))\n",
    "test_data, test_labels = load_data('test_data_SYN.npz')\n",
    "print(test_data.shape)\n",
    "print(np.unique(test_labels, return_counts=True))\n",
    "x_train = train_data\n",
    "y_train = train_labels\n",
    "x_test = test_data\n",
    "y_test = test_labels"
   ]
  },
  {
   "cell_type": "code",
   "execution_count": 3,
   "metadata": {},
   "outputs": [],
   "source": [
    "# input: # of features, x_train with n features, x_test with n features\n",
    "# return: hidden layer weights, prints accuracy\n",
    "def train_model(n: int, x_train: np.ndarray, x_test: np.ndarray) -> np.ndarray:\n",
    "    input_tensor = tf.keras.Input(shape=(n,))\n",
    "    hidden_size = 132\n",
    "    reg_l1_param = 0.001\n",
    "    hidden_layer_1 = tf.keras.layers.Dense(units=hidden_size, activation=tf.nn.relu, \n",
    "                                           name = 'hidden_layer',\n",
    "                                           activity_regularizer=tf.keras.regularizers.l1(reg_l1_param))(input_tensor)\n",
    "    output_layer = tf.keras.layers.Dense(units=10, activation=tf.nn.softmax, name = 'classification_layer')(hidden_layer_1)\n",
    "    model = tf.keras.Model(inputs=input_tensor, outputs=output_layer)\n",
    "    model.compile(optimizer='adam', loss='sparse_categorical_crossentropy', metrics=['accuracy'])\n",
    "    history = model.fit(x_train, y_train, epochs=10, batch_size=32, \n",
    "                        validation_data=(x_test, y_test))\n",
    "    test_loss, test_acc = model.evaluate(x_test, y_test)\n",
    "    summary = model.summary()\n",
    "    hidden_w = model.layers[1].get_weights()[0]\n",
    "\n",
    "    print(f\"accuracy with {n} features is: {test_acc}\")\n",
    "    return hidden_w"
   ]
  },
  {
   "cell_type": "code",
   "execution_count": 4,
   "metadata": {},
   "outputs": [],
   "source": [
    "# input: hidden layer weights\n",
    "# return: index of 10 features with highest weight\n",
    "def feature_selection(feature_w: np.ndarray) -> np.ndarray:\n",
    "    f = np.abs(feature_w)\n",
    "    sum_w = np.array([])\n",
    "    count = f.shape[0]\n",
    "    for i in range(count):\n",
    "        sum = np.sum(f[i])\n",
    "        sum_w = np.append(sum_w, sum)\n",
    "    index = np.argpartition(sum_w, -10)[-10:]\n",
    "    return index"
   ]
  },
  {
   "cell_type": "code",
   "execution_count": 5,
   "metadata": {},
   "outputs": [],
   "source": [
    "# input: x_train, x_test\n",
    "# return: accuracy\n",
    "def train_svm(x_train: np.ndarray, x_test: np.ndarray) -> float:\n",
    "    svc = SVC(kernel='rbf', C=10)\n",
    "    svc.fit(x_train, y_train)\n",
    "    y_pred = svc.predict(x_test)\n",
    "    accuracy = accuracy_score(y_test, y_pred)\n",
    "    return accuracy"
   ]
  },
  {
   "cell_type": "code",
   "execution_count": 6,
   "metadata": {},
   "outputs": [],
   "source": [
    "n = 1024\n",
    "x_train_new = x_train\n",
    "x_test_new = x_test\n",
    "x_train_best = x_train\n",
    "x_test_best = x_test\n",
    "best_ind = np.array([0])\n",
    "score = np.array([])"
   ]
  },
  {
   "cell_type": "code",
   "execution_count": 14,
   "metadata": {
    "scrolled": true
   },
   "outputs": [
    {
     "name": "stdout",
     "output_type": "stream",
     "text": [
      "Epoch 1/10\n",
      "157/157 [==============================] - 2s 9ms/step - loss: 0.8121 - accuracy: 0.7666 - val_loss: 0.5909 - val_accuracy: 0.8404\n",
      "Epoch 2/10\n",
      "157/157 [==============================] - 1s 8ms/step - loss: 0.3713 - accuracy: 0.9210 - val_loss: 0.5200 - val_accuracy: 0.8594\n",
      "Epoch 3/10\n",
      "157/157 [==============================] - 1s 7ms/step - loss: 0.2552 - accuracy: 0.9584 - val_loss: 0.4795 - val_accuracy: 0.8684\n",
      "Epoch 4/10\n",
      "157/157 [==============================] - 1s 7ms/step - loss: 0.1866 - accuracy: 0.9788 - val_loss: 0.4604 - val_accuracy: 0.8746\n",
      "Epoch 5/10\n",
      "157/157 [==============================] - 1s 8ms/step - loss: 0.1409 - accuracy: 0.9912 - val_loss: 0.4542 - val_accuracy: 0.8782\n",
      "Epoch 6/10\n",
      "157/157 [==============================] - 1s 7ms/step - loss: 0.1103 - accuracy: 0.9978 - val_loss: 0.4524 - val_accuracy: 0.8780\n",
      "Epoch 7/10\n",
      "157/157 [==============================] - 1s 8ms/step - loss: 0.0915 - accuracy: 0.9998 - val_loss: 0.4479 - val_accuracy: 0.8798\n",
      "Epoch 8/10\n",
      "157/157 [==============================] - 1s 7ms/step - loss: 0.0803 - accuracy: 1.0000 - val_loss: 0.4405 - val_accuracy: 0.8798\n",
      "Epoch 9/10\n",
      "157/157 [==============================] - 1s 8ms/step - loss: 0.0715 - accuracy: 1.0000 - val_loss: 0.4311 - val_accuracy: 0.8830\n",
      "Epoch 10/10\n",
      "157/157 [==============================] - 1s 8ms/step - loss: 0.0658 - accuracy: 1.0000 - val_loss: 0.4285 - val_accuracy: 0.8812\n",
      "157/157 [==============================] - 1s 3ms/step - loss: 0.4285 - accuracy: 0.8812\n",
      "Model: \"model_10\"\n",
      "_________________________________________________________________\n",
      " Layer (type)                Output Shape              Param #   \n",
      "=================================================================\n",
      " input_11 (InputLayer)       [(None, 924)]             0         \n",
      "                                                                 \n",
      " hidden_layer (Dense)        (None, 132)               122100    \n",
      "                                                                 \n",
      " classification_layer (Dense  (None, 10)               1330      \n",
      " )                                                               \n",
      "                                                                 \n",
      "=================================================================\n",
      "Total params: 123,430\n",
      "Trainable params: 123,430\n",
      "Non-trainable params: 0\n",
      "_________________________________________________________________\n",
      "accuracy with 924 features is: 0.8812000155448914\n",
      "##### 110 features: accuracy = 0.7868, score = 0.7043 #####\n",
      "Epoch 1/10\n",
      "157/157 [==============================] - 2s 9ms/step - loss: 0.8220 - accuracy: 0.7642 - val_loss: 0.6140 - val_accuracy: 0.8344\n",
      "Epoch 2/10\n",
      "157/157 [==============================] - 1s 7ms/step - loss: 0.3659 - accuracy: 0.9212 - val_loss: 0.5049 - val_accuracy: 0.8654\n",
      "Epoch 3/10\n",
      "157/157 [==============================] - 1s 7ms/step - loss: 0.2529 - accuracy: 0.9564 - val_loss: 0.4903 - val_accuracy: 0.8688\n",
      "Epoch 4/10\n",
      "157/157 [==============================] - 1s 7ms/step - loss: 0.1831 - accuracy: 0.9782 - val_loss: 0.4867 - val_accuracy: 0.8724\n",
      "Epoch 5/10\n",
      "157/157 [==============================] - 1s 7ms/step - loss: 0.1405 - accuracy: 0.9908 - val_loss: 0.4690 - val_accuracy: 0.8734\n",
      "Epoch 6/10\n",
      "157/157 [==============================] - 1s 7ms/step - loss: 0.1098 - accuracy: 0.9972 - val_loss: 0.4630 - val_accuracy: 0.8748\n",
      "Epoch 7/10\n",
      "157/157 [==============================] - 1s 7ms/step - loss: 0.0923 - accuracy: 0.9990 - val_loss: 0.4536 - val_accuracy: 0.8746\n",
      "Epoch 8/10\n",
      "157/157 [==============================] - 1s 7ms/step - loss: 0.0793 - accuracy: 1.0000 - val_loss: 0.4531 - val_accuracy: 0.8754\n",
      "Epoch 9/10\n",
      "157/157 [==============================] - 1s 7ms/step - loss: 0.0706 - accuracy: 1.0000 - val_loss: 0.4427 - val_accuracy: 0.8772\n",
      "Epoch 10/10\n",
      "157/157 [==============================] - 1s 7ms/step - loss: 0.0642 - accuracy: 1.0000 - val_loss: 0.4411 - val_accuracy: 0.8768\n",
      "157/157 [==============================] - 0s 3ms/step - loss: 0.4411 - accuracy: 0.8768\n",
      "Model: \"model_11\"\n",
      "_________________________________________________________________\n",
      " Layer (type)                Output Shape              Param #   \n",
      "=================================================================\n",
      " input_12 (InputLayer)       [(None, 914)]             0         \n",
      "                                                                 \n",
      " hidden_layer (Dense)        (None, 132)               120780    \n",
      "                                                                 \n",
      " classification_layer (Dense  (None, 10)               1330      \n",
      " )                                                               \n",
      "                                                                 \n",
      "=================================================================\n",
      "Total params: 122,110\n",
      "Trainable params: 122,110\n",
      "Non-trainable params: 0\n",
      "_________________________________________________________________\n",
      "accuracy with 914 features is: 0.876800000667572\n",
      "##### 120 features: accuracy = 0.7892, score = 0.6992 #####\n",
      "Epoch 1/10\n",
      "157/157 [==============================] - 2s 9ms/step - loss: 0.8162 - accuracy: 0.7666 - val_loss: 0.5855 - val_accuracy: 0.8458\n",
      "Epoch 2/10\n",
      "157/157 [==============================] - 1s 7ms/step - loss: 0.3604 - accuracy: 0.9220 - val_loss: 0.5359 - val_accuracy: 0.8496\n",
      "Epoch 3/10\n",
      "157/157 [==============================] - 1s 7ms/step - loss: 0.2488 - accuracy: 0.9570 - val_loss: 0.5136 - val_accuracy: 0.8596\n",
      "Epoch 4/10\n",
      "157/157 [==============================] - 1s 7ms/step - loss: 0.1839 - accuracy: 0.9780 - val_loss: 0.4754 - val_accuracy: 0.8710\n",
      "Epoch 5/10\n",
      "157/157 [==============================] - 1s 8ms/step - loss: 0.1358 - accuracy: 0.9932 - val_loss: 0.4752 - val_accuracy: 0.8738\n",
      "Epoch 6/10\n",
      "157/157 [==============================] - 1s 7ms/step - loss: 0.1109 - accuracy: 0.9960 - val_loss: 0.4580 - val_accuracy: 0.8736\n",
      "Epoch 7/10\n",
      "157/157 [==============================] - 1s 7ms/step - loss: 0.0908 - accuracy: 0.9990 - val_loss: 0.4556 - val_accuracy: 0.8784\n",
      "Epoch 8/10\n",
      "157/157 [==============================] - 1s 7ms/step - loss: 0.0790 - accuracy: 0.9998 - val_loss: 0.4603 - val_accuracy: 0.8754\n",
      "Epoch 9/10\n",
      "157/157 [==============================] - 1s 7ms/step - loss: 0.0711 - accuracy: 1.0000 - val_loss: 0.4458 - val_accuracy: 0.8800\n",
      "Epoch 10/10\n",
      "157/157 [==============================] - 1s 7ms/step - loss: 0.0645 - accuracy: 1.0000 - val_loss: 0.4461 - val_accuracy: 0.8806\n",
      "157/157 [==============================] - 0s 3ms/step - loss: 0.4461 - accuracy: 0.8806\n",
      "Model: \"model_12\"\n",
      "_________________________________________________________________\n",
      " Layer (type)                Output Shape              Param #   \n",
      "=================================================================\n",
      " input_13 (InputLayer)       [(None, 904)]             0         \n",
      "                                                                 \n",
      " hidden_layer (Dense)        (None, 132)               119460    \n",
      "                                                                 \n",
      " classification_layer (Dense  (None, 10)               1330      \n",
      " )                                                               \n",
      "                                                                 \n",
      "=================================================================\n",
      "Total params: 120,790\n",
      "Trainable params: 120,790\n",
      "Non-trainable params: 0\n",
      "_________________________________________________________________\n",
      "accuracy with 904 features is: 0.8805999755859375\n",
      "##### 130 features: accuracy = 0.7948, score = 0.6972999999999999 #####\n",
      "Epoch 1/10\n",
      "157/157 [==============================] - 2s 9ms/step - loss: 0.8195 - accuracy: 0.7690 - val_loss: 0.6006 - val_accuracy: 0.8356\n",
      "Epoch 2/10\n",
      "157/157 [==============================] - 1s 7ms/step - loss: 0.3609 - accuracy: 0.9190 - val_loss: 0.5252 - val_accuracy: 0.8562\n",
      "Epoch 3/10\n",
      "157/157 [==============================] - 1s 7ms/step - loss: 0.2468 - accuracy: 0.9598 - val_loss: 0.4949 - val_accuracy: 0.8662\n",
      "Epoch 4/10\n",
      "157/157 [==============================] - 1s 7ms/step - loss: 0.1786 - accuracy: 0.9790 - val_loss: 0.4855 - val_accuracy: 0.8666\n",
      "Epoch 5/10\n",
      "157/157 [==============================] - 1s 7ms/step - loss: 0.1341 - accuracy: 0.9940 - val_loss: 0.4702 - val_accuracy: 0.8756\n"
     ]
    },
    {
     "name": "stdout",
     "output_type": "stream",
     "text": [
      "Epoch 6/10\n",
      "157/157 [==============================] - 1s 7ms/step - loss: 0.1075 - accuracy: 0.9982 - val_loss: 0.4613 - val_accuracy: 0.8766\n",
      "Epoch 7/10\n",
      "157/157 [==============================] - 1s 7ms/step - loss: 0.0898 - accuracy: 0.9994 - val_loss: 0.4453 - val_accuracy: 0.8804\n",
      "Epoch 8/10\n",
      "157/157 [==============================] - 1s 7ms/step - loss: 0.0785 - accuracy: 1.0000 - val_loss: 0.4395 - val_accuracy: 0.8836\n",
      "Epoch 9/10\n",
      "157/157 [==============================] - 1s 7ms/step - loss: 0.0700 - accuracy: 1.0000 - val_loss: 0.4373 - val_accuracy: 0.8860\n",
      "Epoch 10/10\n",
      "157/157 [==============================] - 1s 7ms/step - loss: 0.0641 - accuracy: 1.0000 - val_loss: 0.4309 - val_accuracy: 0.8844\n",
      "157/157 [==============================] - 1s 3ms/step - loss: 0.4309 - accuracy: 0.8844\n",
      "Model: \"model_13\"\n",
      "_________________________________________________________________\n",
      " Layer (type)                Output Shape              Param #   \n",
      "=================================================================\n",
      " input_14 (InputLayer)       [(None, 894)]             0         \n",
      "                                                                 \n",
      " hidden_layer (Dense)        (None, 132)               118140    \n",
      "                                                                 \n",
      " classification_layer (Dense  (None, 10)               1330      \n",
      " )                                                               \n",
      "                                                                 \n",
      "=================================================================\n",
      "Total params: 119,470\n",
      "Trainable params: 119,470\n",
      "Non-trainable params: 0\n",
      "_________________________________________________________________\n",
      "accuracy with 894 features is: 0.8844000101089478\n",
      "##### 140 features: accuracy = 0.8022, score = 0.6972 #####\n",
      "Epoch 1/10\n",
      "157/157 [==============================] - 3s 9ms/step - loss: 0.8119 - accuracy: 0.7638 - val_loss: 0.6135 - val_accuracy: 0.8250\n",
      "Epoch 2/10\n",
      "157/157 [==============================] - 1s 7ms/step - loss: 0.3598 - accuracy: 0.9232 - val_loss: 0.5140 - val_accuracy: 0.8612\n",
      "Epoch 3/10\n",
      "157/157 [==============================] - 1s 7ms/step - loss: 0.2530 - accuracy: 0.9574 - val_loss: 0.4746 - val_accuracy: 0.8740\n",
      "Epoch 4/10\n",
      "157/157 [==============================] - 1s 7ms/step - loss: 0.1826 - accuracy: 0.9804 - val_loss: 0.4722 - val_accuracy: 0.8710\n",
      "Epoch 5/10\n",
      "157/157 [==============================] - 1s 7ms/step - loss: 0.1380 - accuracy: 0.9910 - val_loss: 0.4650 - val_accuracy: 0.8768\n",
      "Epoch 6/10\n",
      "157/157 [==============================] - 1s 7ms/step - loss: 0.1110 - accuracy: 0.9976 - val_loss: 0.4572 - val_accuracy: 0.8774\n",
      "Epoch 7/10\n",
      "157/157 [==============================] - 1s 7ms/step - loss: 0.0974 - accuracy: 0.9988 - val_loss: 0.4433 - val_accuracy: 0.8826\n",
      "Epoch 8/10\n",
      "157/157 [==============================] - 1s 7ms/step - loss: 0.0799 - accuracy: 0.9996 - val_loss: 0.4300 - val_accuracy: 0.8836\n",
      "Epoch 9/10\n",
      "157/157 [==============================] - 1s 7ms/step - loss: 0.0717 - accuracy: 1.0000 - val_loss: 0.4222 - val_accuracy: 0.8860\n",
      "Epoch 10/10\n",
      "157/157 [==============================] - 1s 7ms/step - loss: 0.0654 - accuracy: 1.0000 - val_loss: 0.4178 - val_accuracy: 0.8866\n",
      "157/157 [==============================] - 1s 3ms/step - loss: 0.4178 - accuracy: 0.8866\n",
      "Model: \"model_14\"\n",
      "_________________________________________________________________\n",
      " Layer (type)                Output Shape              Param #   \n",
      "=================================================================\n",
      " input_15 (InputLayer)       [(None, 884)]             0         \n",
      "                                                                 \n",
      " hidden_layer (Dense)        (None, 132)               116820    \n",
      "                                                                 \n",
      " classification_layer (Dense  (None, 10)               1330      \n",
      " )                                                               \n",
      "                                                                 \n",
      "=================================================================\n",
      "Total params: 118,150\n",
      "Trainable params: 118,150\n",
      "Non-trainable params: 0\n",
      "_________________________________________________________________\n",
      "accuracy with 884 features is: 0.8866000175476074\n",
      "##### 150 features: accuracy = 0.8092, score = 0.6967000000000001 #####\n"
     ]
    }
   ],
   "source": [
    "for i in range(10, 15):\n",
    "    hidden_w = train_model(n, x_train_new, x_test_new)\n",
    "    index = feature_selection(hidden_w)\n",
    "    best_ind = np.append(best_ind, index)\n",
    "    if(i==0): best_ind = np.delete(best_ind, 0)\n",
    "    \n",
    "    x_train_best = x_train[:][:, best_ind]\n",
    "    x_test_best = x_test[:][:, best_ind] # could be random\n",
    "    \n",
    "    # train svm with x_train_best\n",
    "    accuracy = train_svm(x_train_best, x_test_best)\n",
    "    penalty = 0.00075 * (i+1) * 10\n",
    "    sc = accuracy - penalty\n",
    "    score = np.append(score, sc)\n",
    "    \n",
    "    x_train_new = np.delete(x_train_new, index, axis = 1)\n",
    "    x_test_new = np.delete(x_test_new, index, axis = 1)\n",
    "    n -= 10;\n",
    "    \n",
    "    print(f\"##### {(i+1)*10} features: accuracy = {accuracy}, score = {sc} #####\")"
   ]
  },
  {
   "cell_type": "code",
   "execution_count": 15,
   "metadata": {},
   "outputs": [
    {
     "name": "stdout",
     "output_type": "stream",
     "text": [
      "(150,)\n",
      "[0.3689 0.4316 0.4935 0.5742 0.6355 0.6456 0.6641 0.6664 0.6891 0.6952\n",
      " 0.7043 0.6992 0.6973 0.6972 0.6967]\n"
     ]
    }
   ],
   "source": [
    "print(best_ind.shape)\n",
    "print(score)"
   ]
  },
  {
   "cell_type": "code",
   "execution_count": 22,
   "metadata": {},
   "outputs": [
    {
     "name": "stdout",
     "output_type": "stream",
     "text": [
      "[0.3764 0.4466 0.516  0.6042 0.673  0.6906 0.7166 0.7264 0.7566 0.7702\n",
      " 0.7868 0.7892 0.7948 0.8022 0.8092]\n"
     ]
    }
   ],
   "source": [
    "acc = np.array([])\n",
    "for i in range(15):\n",
    "    pen = 0.0075 * (i+1)\n",
    "    a = score[i] + pen\n",
    "    acc = np.append(acc, a)\n",
    "print(acc)"
   ]
  },
  {
   "cell_type": "code",
   "execution_count": 18,
   "metadata": {},
   "outputs": [
    {
     "name": "stdout",
     "output_type": "stream",
     "text": [
      "[0.7043]\n",
      "[11]\n"
     ]
    }
   ],
   "source": [
    "i = np.argpartition(score, -1)[-1:]\n",
    "high_score = score[i]\n",
    "print(high_score)\n",
    "print(i+1)\n",
    "# highest score is 0.7043\n",
    "# i is 11 -> first top 110 features"
   ]
  },
  {
   "cell_type": "code",
   "execution_count": 19,
   "metadata": {},
   "outputs": [
    {
     "name": "stdout",
     "output_type": "stream",
     "text": [
      "accuracy = 0.7868\n"
     ]
    },
    {
     "data": {
      "image/png": "[encoded data removed]",
      "text/plain": [
       "<Figure size 640x480 with 2 Axes>"
      ]
     },
     "metadata": {},
     "output_type": "display_data"
    }
   ],
   "source": [
    "result_ind = best_ind[0:110]\n",
    "best_features = x_train[:][:, result_ind]\n",
    "y = x_test[:][:, result_ind]\n",
    "\n",
    "svc = SVC(kernel='rbf', C=10)\n",
    "svc.fit(best_features, y_train)\n",
    "y_pred = svc.predict(y)\n",
    "accuracy = accuracy_score(y_test, y_pred)\n",
    "\n",
    "cm = confusion_matrix(y_test,y_pred)\n",
    "sns.heatmap(cm, annot=True, fmt='d').set_title('Confusion matrix of SVM with best 110 features')\n",
    "print(f\"accuracy = {accuracy}\")"
   ]
  },
  {
   "cell_type": "code",
   "execution_count": null,
   "metadata": {},
   "outputs": [],
   "source": []
  }
 ],
 "metadata": {
  "colab": {
   "authorship_tag": "ABX9TyPNhLeU0bLbIWOSFo5YG7Gr",
   "provenance": []
  },
  "kernelspec": {
   "display_name": "Python 3 (ipykernel)",
   "language": "python",
   "name": "python3"
  },
  "language_info": {
   "codemirror_mode": {
    "name": "ipython",
    "version": 3
   },
   "file_extension": ".py",
   "mimetype": "text/x-python",
   "name": "python",
   "nbconvert_exporter": "python",
   "pygments_lexer": "ipython3",
   "version": "3.10.7"
  }
 },
 "nbformat": 4,
 "nbformat_minor": 1
}
